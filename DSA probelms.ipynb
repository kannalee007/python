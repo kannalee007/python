{
 "cells": [
  {
   "cell_type": "code",
   "execution_count": 2,
   "id": "532dccf9-019f-451a-9faa-97480544ede7",
   "metadata": {
    "scrolled": true
   },
   "outputs": [
    {
     "name": "stdout",
     "output_type": "stream",
     "text": [
      "common element: 4\n",
      "common element: 5\n"
     ]
    }
   ],
   "source": [
    "nums1 = [1, 2, 3, 4, 5]\n",
    "nums2 = [4, 5, 6, 7, 8]\n",
    "\n",
    "for num in nums1:\n",
    "    if num in nums2:\n",
    "        print(\"common element:\", num)"
   ]
  },
  {
   "cell_type": "code",
   "execution_count": 2,
   "id": "377b3ef9-bf95-4855-810a-d25da7d440cc",
   "metadata": {},
   "outputs": [
    {
     "name": "stdout",
     "output_type": "stream",
     "text": [
      "common element: 4\n",
      "common element: 5\n"
     ]
    }
   ],
   "source": [
    "nums1 = [1, 2, 3, 4, 5, 6]\n",
    "nums2 = [4, 5, 6, 7, 8]\n",
    "nums3 = [0, 4, 5, 9, 10]\n",
    "for num in nums1 and nums2 and nums3:\n",
    "    if num in nums1 and nums2 and nums3:\n",
    "        print(\"common element:\", num)"
   ]
  },
  {
   "cell_type": "code",
   "execution_count": 12,
   "id": "2875b5c4-ea76-41e0-9120-f7f92ccc5f35",
   "metadata": {},
   "outputs": [
    {
     "name": "stdout",
     "output_type": "stream",
     "text": [
      "uniques elements: 1\n",
      "uniques elements: 2\n",
      "uniques elements: 3\n"
     ]
    }
   ],
   "source": [
    "nums1 = [1, 2, 3, 4, 5, 6]\n",
    "nums2 = [4, 5, 6, 7, 8, 9]\n",
    "for num in nums1:\n",
    "    if num not in nums2:\n",
    "        print(\"uniques elements:\",num)"
   ]
  },
  {
   "cell_type": "code",
   "execution_count": 1,
   "id": "840725a9-5bea-4b8a-9c98-96a288ae3286",
   "metadata": {},
   "outputs": [
    {
     "name": "stdout",
     "output_type": "stream",
     "text": [
      "common elements: 2\n",
      "common elements: 3\n",
      "common elements: 4\n"
     ]
    }
   ],
   "source": [
    "nums1 = [1, 2, 3, 4, 5, 6]\n",
    "nums2 = [3, 4, 5, 6, 7, 8]\n",
    "nums3 = [0, 2, 3, 4, 9]\n",
    "for nums in nums1 and nums2 and nums3:\n",
    "    if nums in nums1 and nums2 and nums3:\n",
    "        print(\"common elements:\",nums)"
   ]
  },
  {
   "cell_type": "code",
   "execution_count": 9,
   "id": "25324d7c-89eb-4c21-8c52-4c3a5a2d58d3",
   "metadata": {},
   "outputs": [
    {
     "name": "stdout",
     "output_type": "stream",
     "text": [
      "Common unique numbers: [2, 3, 4, 5]\n"
     ]
    }
   ],
   "source": [
    "nums1 = [1, 2, 2, 3, 4, 5, 6]\n",
    "nums2 = [3, 4, 4, 5, 7, 8, 2]\n",
    "\n",
    "common = []\n",
    "for num in nums1:\n",
    "    if num in nums2 and num not in common:\n",
    "        common.append(num)\n",
    "\n",
    "print(\"Common unique numbers:\", common)"
   ]
  },
  {
   "cell_type": "code",
   "execution_count": null,
   "id": "e77dd895-2bdf-45fc-9e4d-289d5f9f8cda",
   "metadata": {},
   "outputs": [],
   "source": []
  }
 ],
 "metadata": {
  "kernelspec": {
   "display_name": "Python 3 (ipykernel)",
   "language": "python",
   "name": "python3"
  },
  "language_info": {
   "codemirror_mode": {
    "name": "ipython",
    "version": 3
   },
   "file_extension": ".py",
   "mimetype": "text/x-python",
   "name": "python",
   "nbconvert_exporter": "python",
   "pygments_lexer": "ipython3",
   "version": "3.13.5"
  }
 },
 "nbformat": 4,
 "nbformat_minor": 5
}
