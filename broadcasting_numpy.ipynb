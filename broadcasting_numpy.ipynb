{
 "cells": [
  {
   "cell_type": "code",
   "execution_count": 5,
   "id": "2c498791-c55e-4858-8989-b6cf8bf1c2e7",
   "metadata": {},
   "outputs": [
    {
     "data": {
      "text/plain": [
       "array([[11,  4, 32],\n",
       "       [18, 21, 37],\n",
       "       [19, 25, 14],\n",
       "       [ 1, 23, 19]])"
      ]
     },
     "execution_count": 5,
     "metadata": {},
     "output_type": "execute_result"
    }
   ],
   "source": [
    "import numpy as np\n",
    "ar1 = np.random.randint(40,size =(4,3))\n",
    "ar1"
   ]
  },
  {
   "cell_type": "code",
   "execution_count": 9,
   "id": "64376a6e-4b64-4217-bcf7-9a3102d405f9",
   "metadata": {},
   "outputs": [
    {
     "data": {
      "text/plain": [
       "array([2, 3, 0])"
      ]
     },
     "execution_count": 9,
     "metadata": {},
     "output_type": "execute_result"
    }
   ],
   "source": [
    "ar2 = np.random.randint(5,size = (3,))\n",
    "ar2"
   ]
  },
  {
   "cell_type": "code",
   "execution_count": 10,
   "id": "d52c5583-bde1-4482-b878-3e880aac76ba",
   "metadata": {},
   "outputs": [
    {
     "data": {
      "text/plain": [
       "array([[13,  7, 32],\n",
       "       [20, 24, 37],\n",
       "       [21, 28, 14],\n",
       "       [ 3, 26, 19]])"
      ]
     },
     "execution_count": 10,
     "metadata": {},
     "output_type": "execute_result"
    }
   ],
   "source": [
    "ar1 + ar2 #ONE OF THE RULES STATES THAT THE COLOUMN SHOULD MATCH WITH THE VECTOR OF THE SECOND ARRAY "
   ]
  },
  {
   "cell_type": "code",
   "execution_count": 11,
   "id": "57bffd07-3c95-4eaa-badb-5bed8fb66411",
   "metadata": {},
   "outputs": [
    {
     "data": {
      "text/plain": [
       "array([[ 4, 13, 12],\n",
       "       [18, 15, 10],\n",
       "       [ 2, 19, 13],\n",
       "       [17,  0,  2]])"
      ]
     },
     "execution_count": 11,
     "metadata": {},
     "output_type": "execute_result"
    }
   ],
   "source": [
    "ar3 = np.random.randint(20, size = (4,3))\n",
    "ar3"
   ]
  },
  {
   "cell_type": "code",
   "execution_count": 12,
   "id": "e8c732de-205e-490f-b2e9-5d8ad9815224",
   "metadata": {},
   "outputs": [
    {
     "data": {
      "text/plain": [
       "array([[2],\n",
       "       [3],\n",
       "       [0],\n",
       "       [0]])"
      ]
     },
     "execution_count": 12,
     "metadata": {},
     "output_type": "execute_result"
    }
   ],
   "source": [
    "ar4 = np.random.randint(4, size = (4,1))\n",
    "ar4"
   ]
  },
  {
   "cell_type": "code",
   "execution_count": 13,
   "id": "fa155230-8793-498a-b1ef-de9004db7761",
   "metadata": {},
   "outputs": [
    {
     "data": {
      "text/plain": [
       "array([[13,  7, 32],\n",
       "       [20, 24, 37],\n",
       "       [21, 28, 14],\n",
       "       [ 3, 26, 19]])"
      ]
     },
     "execution_count": 13,
     "metadata": {},
     "output_type": "execute_result"
    }
   ],
   "source": [
    "ar1 + ar2   #IN THIS SECOND RULE WE HAVE TO CHECK IF THE ROW SHOULD BE SIMILAR TO THE SIZE OF THE SECOND VECTOR AND THE SECOD MATRIX SHOULD BE ALWYAS 1"
   ]
  },
  {
   "cell_type": "code",
   "execution_count": null,
   "id": "2bd788c5-d481-4237-bd4b-7a8c2e286c3f",
   "metadata": {},
   "outputs": [],
   "source": []
  }
 ],
 "metadata": {
  "kernelspec": {
   "display_name": "Python 3 (ipykernel)",
   "language": "python",
   "name": "python3"
  },
  "language_info": {
   "codemirror_mode": {
    "name": "ipython",
    "version": 3
   },
   "file_extension": ".py",
   "mimetype": "text/x-python",
   "name": "python",
   "nbconvert_exporter": "python",
   "pygments_lexer": "ipython3",
   "version": "3.13.5"
  }
 },
 "nbformat": 4,
 "nbformat_minor": 5
}
