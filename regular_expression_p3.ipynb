{
 "cells": [
  {
   "cell_type": "code",
   "execution_count": 2,
   "id": "25eb422d-5732-4d8f-91a8-e89ea1952eed",
   "metadata": {},
   "outputs": [
    {
     "name": "stdout",
     "output_type": "stream",
     "text": [
      "['34', '23', '02', '9823']\n"
     ]
    }
   ],
   "source": [
    "import re                                            #USING: |. THIS GENREALLY A \"OR\" OPERATOR.\n",
    "\n",
    "\n",
    "results = re.findall(r'\\w\\d{3}|\\d{2}', 'aaaaaa34 (+239) 023 98238')\n",
    "print(results)"
   ]
  },
  {
   "cell_type": "code",
   "execution_count": 5,
   "id": "0d4cdbd8-5a12-40e7-93e4-d5a402ef8ba7",
   "metadata": {},
   "outputs": [
    {
     "data": {
      "text/plain": [
       "['alice-b@google.com', 'lokesh.kumar@gmail.com', 'rani@hotmail.com']"
      ]
     },
     "execution_count": 5,
     "metadata": {},
     "output_type": "execute_result"
    }
   ],
   "source": [
    "text = 'purple alice-b@google.com monkey lokesh.kumar@gmail.com dishwasher  rani@hotmail.com'\n",
    "result = re.findall(r'[\\w.-]+@[\\w.]+', text)                            #USING: []\n",
    "result"
   ]
  },
  {
   "cell_type": "code",
   "execution_count": 6,
   "id": "2b6a2472-d16b-4b34-82c8-187345a1802c",
   "metadata": {},
   "outputs": [
    {
     "data": {
      "text/plain": [
       "['aaaa', 'bbbb', 'jjjj']"
      ]
     },
     "execution_count": 6,
     "metadata": {},
     "output_type": "execute_result"
    }
   ],
   "source": [
    "word = 'aaaaaaa333 abbbbbbb djdjjjjjjj'\n",
    "result = re.findall(r'a{4}|b{4}|j{4}', word)             #USING: | AND {}\n",
    "result"
   ]
  },
  {
   "cell_type": "code",
   "execution_count": 11,
   "id": "59a5ffae-aac1-4edc-beaf-ef002fef5d81",
   "metadata": {},
   "outputs": [
    {
     "data": {
      "text/plain": [
       "[('laptop', 'hanis'),\n",
       " ('@gmail.com', 'barking'),\n",
       " ('mark_azure@gmail.com', 'henry~ford'),\n",
       " ('@gmail.c', 'm')]"
      ]
     },
     "execution_count": 11,
     "metadata": {},
     "output_type": "execute_result"
    }
   ],
   "source": [
    "sen = 'laptop hanis@gmail.com barking mark_azure@gmail.com henry~ford@gmail.com'\n",
    "result = re.findall(r'([\\w.@]+).([\\w.~]+)', sen)                 #USING: () WITH []\n",
    "result"
   ]
  },
  {
   "cell_type": "code",
   "execution_count": 24,
   "id": "592d4809-ed9f-4e20-8485-0b6abad459d7",
   "metadata": {},
   "outputs": [
    {
     "name": "stdin",
     "output_type": "stream",
     "text": [
      "Enter your email ID:  kaarunyalakshman@gmail.com\n"
     ]
    },
    {
     "name": "stdout",
     "output_type": "stream",
     "text": [
      "Welcome! Your email address is valid.\n"
     ]
    }
   ],
   "source": [
    "import re\n",
    "email = input(\"Enter your email ID: \")\n",
    "pattern = r'^[a-zA-Z0-9._%+-]+@[a-zA-Z0-9.-]+\\.[a-zA-Z]{2,}$'   #USE CASE: EMAIL \n",
    "match = re.fullmatch(pattern, email)\n",
    "\n",
    "if match:\n",
    "    print(\"Welcome! Your email address is valid.\")\n",
    "else:\n",
    "    print(\"Invalid email address.\")"
   ]
  },
  {
   "cell_type": "code",
   "execution_count": null,
   "id": "c1453060-b6b6-4f51-a680-d7a3fd7845b2",
   "metadata": {},
   "outputs": [],
   "source": []
  }
 ],
 "metadata": {
  "kernelspec": {
   "display_name": "Python 3 (ipykernel)",
   "language": "python",
   "name": "python3"
  },
  "language_info": {
   "codemirror_mode": {
    "name": "ipython",
    "version": 3
   },
   "file_extension": ".py",
   "mimetype": "text/x-python",
   "name": "python",
   "nbconvert_exporter": "python",
   "pygments_lexer": "ipython3",
   "version": "3.13.5"
  }
 },
 "nbformat": 4,
 "nbformat_minor": 5
}
