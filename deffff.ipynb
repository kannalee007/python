{
 "cells": [
  {
   "cell_type": "code",
   "execution_count": 1,
   "id": "0f7c0c80-e890-4665-8c04-dcf95a416e1f",
   "metadata": {},
   "outputs": [
    {
     "name": "stdout",
     "output_type": "stream",
     "text": [
      "Welcome to the world of Python!\n"
     ]
    }
   ],
   "source": [
    "def new():\n",
    "    print(\"Welcome to the world of Python!\")\n",
    "new()"
   ]
  },
  {
   "cell_type": "code",
   "execution_count": 6,
   "id": "51adbd2a-d83a-485a-8db2-04d108667253",
   "metadata": {},
   "outputs": [
    {
     "name": "stdout",
     "output_type": "stream",
     "text": [
      "Have a great day, kaarunya\n"
     ]
    }
   ],
   "source": [
    "def none(name):\n",
    "    print(\"Have a great day,\",name)\n",
    "none(\"kaarunya\")"
   ]
  },
  {
   "cell_type": "code",
   "execution_count": 7,
   "id": "32c95379-be02-45d6-84bb-6e21ed18cc48",
   "metadata": {},
   "outputs": [
    {
     "name": "stdout",
     "output_type": "stream",
     "text": [
      "sum: 10\n"
     ]
    }
   ],
   "source": [
    "def sum(a,b):\n",
    "    print(\"sum:\",a+b)\n",
    "sum(2,8)"
   ]
  },
  {
   "cell_type": "code",
   "execution_count": 2,
   "id": "556d7f58-dee5-44e1-84e7-d8e51c96e2ea",
   "metadata": {},
   "outputs": [
    {
     "name": "stdin",
     "output_type": "stream",
     "text": [
      "Enter length:  0\n",
      "Enter width:  1\n"
     ]
    },
    {
     "name": "stdout",
     "output_type": "stream",
     "text": [
      "Area: Invalid dimensions\n"
     ]
    }
   ],
   "source": [
    "def calculate_area(length, width):\n",
    "    if length <= 0 or width <= 0:\n",
    "        return \"Invalid dimensions\"\n",
    "    else:\n",
    "        return length * width\n",
    "\n",
    "# Taking inputs from user:\n",
    "length = int(input(\"Enter length: \"))\n",
    "width = int(input(\"Enter width: \"))\n",
    "\n",
    "# Calling the function:\n",
    "area = calculate_area(length, width)\n",
    "print(\"Area:\", area)"
   ]
  },
  {
   "cell_type": "code",
   "execution_count": 10,
   "id": "d2c0b37d-96a2-4842-942b-041ce5a777ed",
   "metadata": {},
   "outputs": [
    {
     "name": "stdin",
     "output_type": "stream",
     "text": [
      "what was your score 95\n"
     ]
    },
    {
     "name": "stdout",
     "output_type": "stream",
     "text": [
      " you got A+\n"
     ]
    }
   ],
   "source": [
    "def grade_calculator(marks):\n",
    "    if marks>= 90:\n",
    "        return \" you got A+\"\n",
    "    elif marks>=80:\n",
    "        return \" you got A\"\n",
    "    elif marks>=70:\n",
    "        return\"you got B\"\n",
    "    elif marks >=60:\n",
    "        return\"you got C\"\n",
    "    elif marks<60:\n",
    "        return \"you failed lol\"\n",
    "score = int(input(\"what was your score\"))\n",
    "result = grade_calculator(score)\n",
    "print(result)"
   ]
  },
  {
   "cell_type": "code",
   "execution_count": 12,
   "id": "ea378aca-abd0-4446-888a-cdcd640fd493",
   "metadata": {},
   "outputs": [
    {
     "name": "stdin",
     "output_type": "stream",
     "text": [
      "what is the price: 50000000\n",
      "what is the discount: 43201\n"
     ]
    },
    {
     "name": "stdout",
     "output_type": "stream",
     "text": [
      "discounted price: 49956799\n"
     ]
    }
   ],
   "source": [
    "def calculate_discount_price(price,discount):\n",
    "    if price<=0 or discount < 0:\n",
    "        return \"invalid input\"\n",
    "    else:\n",
    "        return price - discount\n",
    "price = int(input(\"what is the price:\"))\n",
    "discount = int(input(\"what is the discount:\"))\n",
    "final_price = calculate_discount_price(price,discount)\n",
    "print(\"discounted price:\",final_price)\n",
    "\n",
    "        "
   ]
  },
  {
   "cell_type": "code",
   "execution_count": 26,
   "id": "ac7d5229-fbc2-4717-a9e6-077233f1a7a4",
   "metadata": {},
   "outputs": [
    {
     "name": "stdin",
     "output_type": "stream",
     "text": [
      "enter your number 5\n"
     ]
    },
    {
     "name": "stdout",
     "output_type": "stream",
     "text": [
      "120\n"
     ]
    }
   ],
   "source": [
    "def calculate_factorial(n):\n",
    "    if n <0:\n",
    "        return \"invalid input\"\n",
    "    else:\n",
    "        result = 1\n",
    "        for i in range(1,n + 1):\n",
    "            result *= i\n",
    "        return result\n",
    "n = int(input(\"enter your number\"))\n",
    "result = calculate_factorial(n)\n",
    "print(result)"
   ]
  },
  {
   "cell_type": "code",
   "execution_count": 28,
   "id": "08d8e57a-e416-4a1e-b6ae-c71c69b5a023",
   "metadata": {},
   "outputs": [
    {
     "name": "stdin",
     "output_type": "stream",
     "text": [
      "Enter your number:  123456789\n"
     ]
    },
    {
     "name": "stdout",
     "output_type": "stream",
     "text": [
      "987654321\n"
     ]
    }
   ],
   "source": [
    "def reverse_number(n):\n",
    "    if n < 0:\n",
    "        return -int(str(-n)[::-1])\n",
    "    else:\n",
    "        return int(str(n)[::-1])\n",
    "\n",
    "n = int(input(\"Enter your number: \"))\n",
    "result = reverse_number(n)\n",
    "print(result)"
   ]
  },
  {
   "cell_type": "code",
   "execution_count": null,
   "id": "d15170a5-345b-4ce6-9538-cd5b4262081a",
   "metadata": {},
   "outputs": [],
   "source": []
  }
 ],
 "metadata": {
  "kernelspec": {
   "display_name": "Python 3 (ipykernel)",
   "language": "python",
   "name": "python3"
  },
  "language_info": {
   "codemirror_mode": {
    "name": "ipython",
    "version": 3
   },
   "file_extension": ".py",
   "mimetype": "text/x-python",
   "name": "python",
   "nbconvert_exporter": "python",
   "pygments_lexer": "ipython3",
   "version": "3.13.5"
  }
 },
 "nbformat": 4,
 "nbformat_minor": 5
}
