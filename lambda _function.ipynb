{
 "cells": [
  {
   "cell_type": "code",
   "execution_count": 3,
   "id": "7c962185-64b5-4ba0-b389-5fbd0b598785",
   "metadata": {},
   "outputs": [
    {
     "name": "stdout",
     "output_type": "stream",
     "text": [
      "25\n"
     ]
    }
   ],
   "source": [
    "multiply = lambda a : a**2\n",
    "print(multiply(5))"
   ]
  },
  {
   "cell_type": "code",
   "execution_count": 6,
   "id": "4d39d37b-1369-4ab5-9af2-f55ea75dc3b6",
   "metadata": {},
   "outputs": [
    {
     "name": "stdout",
     "output_type": "stream",
     "text": [
      "7\n"
     ]
    }
   ],
   "source": [
    "max = lambda a,b :a if a>b else b\n",
    "print(max(3,7))"
   ]
  },
  {
   "cell_type": "code",
   "execution_count": 16,
   "id": "c58b4dad-69fd-4887-9964-1ac398beae42",
   "metadata": {},
   "outputs": [
    {
     "name": "stdout",
     "output_type": "stream",
     "text": [
      "True\n"
     ]
    }
   ],
   "source": [
    "even_odd = lambda a: True if a%2==0 else False\n",
    "print(even_odd(4))"
   ]
  },
  {
   "cell_type": "code",
   "execution_count": 18,
   "id": "51fa5c03-9949-45b6-a589-a67bd78b40a0",
   "metadata": {},
   "outputs": [
    {
     "name": "stdout",
     "output_type": "stream",
     "text": [
      "23188186\n"
     ]
    }
   ],
   "source": [
    "from functools import reduce\n",
    "\n",
    "nums = [23, 434, 2323]  \n",
    "result = reduce(lambda a, b: a * b, nums)\n",
    "print(result)"
   ]
  },
  {
   "cell_type": "code",
   "execution_count": 19,
   "id": "f4717684-afc2-475d-8a4b-1a2b0a32be62",
   "metadata": {},
   "outputs": [
    {
     "name": "stdout",
     "output_type": "stream",
     "text": [
      "[(6, 0), (4, 1), (1, 3), (2, 5)]\n"
     ]
    }
   ],
   "source": [
    "nums = [(1, 3), (4, 1), (2, 5), (6, 0)]\n",
    "result = sorted(nums, key=lambda x: x[1])\n",
    "print(result)"
   ]
  },
  {
   "cell_type": "code",
   "execution_count": 24,
   "id": "a1b654a9-a16e-4090-b99a-e8637e41b10c",
   "metadata": {},
   "outputs": [
    {
     "name": "stdout",
     "output_type": "stream",
     "text": [
      "[64, 100]\n"
     ]
    }
   ],
   "source": [
    "nums = [2, 5, 8, 4, 10]\n",
    "squared = map(lambda x: x**2, nums)\n",
    "result = filter(lambda x: x > 50, squared)\n",
    "print(list(result))"
   ]
  },
  {
   "cell_type": "code",
   "execution_count": 25,
   "id": "7f660d84-eae5-48d1-860a-81939e01a8eb",
   "metadata": {},
   "outputs": [
    {
     "name": "stdout",
     "output_type": "stream",
     "text": [
      "True\n"
     ]
    }
   ],
   "source": [
    "even = lambda n: True if n%2 == 0 else False\n",
    "print(even(8))"
   ]
  },
  {
   "cell_type": "code",
   "execution_count": 29,
   "id": "1aec2c28-9248-4725-a377-889d42ce443b",
   "metadata": {},
   "outputs": [
    {
     "name": "stdout",
     "output_type": "stream",
     "text": [
      "[[1, 2], [3, 4]]\n"
     ]
    }
   ],
   "source": [
    "x = [[1, 2], [3, 4]]\n",
    "y = 99\n",
    "y = x.copy()\n",
    "print(y)"
   ]
  },
  {
   "cell_type": "code",
   "execution_count": null,
   "id": "43d63fc5-337e-463e-b142-43787a77dfdc",
   "metadata": {},
   "outputs": [],
   "source": []
  }
 ],
 "metadata": {
  "kernelspec": {
   "display_name": "Python 3 (ipykernel)",
   "language": "python",
   "name": "python3"
  },
  "language_info": {
   "codemirror_mode": {
    "name": "ipython",
    "version": 3
   },
   "file_extension": ".py",
   "mimetype": "text/x-python",
   "name": "python",
   "nbconvert_exporter": "python",
   "pygments_lexer": "ipython3",
   "version": "3.13.5"
  }
 },
 "nbformat": 4,
 "nbformat_minor": 5
}
