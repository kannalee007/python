{
 "cells": [
  {
   "cell_type": "markdown",
   "id": "f6815b76-0902-41f9-920c-6a73f4e329e7",
   "metadata": {},
   "source": [
    "boolean indexing"
   ]
  },
  {
   "cell_type": "code",
   "execution_count": 14,
   "id": "c0cfce3f-0e75-47a6-9889-aafc25236bbf",
   "metadata": {},
   "outputs": [],
   "source": [
    "import numpy as np"
   ]
  },
  {
   "cell_type": "code",
   "execution_count": 15,
   "id": "f49150c3-d5ae-4c0d-b7d2-3b9efa23ea82",
   "metadata": {},
   "outputs": [
    {
     "data": {
      "text/plain": [
       "array([[21, 14, 12, 13, 16, 11],\n",
       "       [23, 23, 11, 16, 13, 15],\n",
       "       [11, 22, 14, 11, 14, 13],\n",
       "       [11, 11, 10, 22, 19, 22]])"
      ]
     },
     "execution_count": 15,
     "metadata": {},
     "output_type": "execute_result"
    }
   ],
   "source": [
    "ar1 = np.array(random.choices(range(10,25), k =24)).reshape((4,6))\n",
    "ar1"
   ]
  },
  {
   "cell_type": "code",
   "execution_count": 40,
   "id": "aa99ada9-56ad-4161-957c-c34469213987",
   "metadata": {},
   "outputs": [
    {
     "data": {
      "text/plain": [
       "array([[13, 27, 18, 26, 11, 27],\n",
       "       [25, 27, 17, 17, 13, 19]])"
      ]
     },
     "execution_count": 40,
     "metadata": {},
     "output_type": "execute_result"
    }
   ],
   "source": [
    "ar2 = np.array(random.choices(range(10,30), k =24)).reshape((4,6))\n",
    "values =[True, False, True, False,]\n",
    "ar2[values]"
   ]
  },
  {
   "cell_type": "code",
   "execution_count": 27,
   "id": "f70f545f-d307-4057-8f9e-2f755cd96b9f",
   "metadata": {},
   "outputs": [
    {
     "data": {
      "text/plain": [
       "array([  2,  32,   2,  32, 342])"
      ]
     },
     "execution_count": 27,
     "metadata": {},
     "output_type": "execute_result"
    }
   ],
   "source": [
    "ar3 = np.array([2,1,32,3,2,1,32,321,342,543])\n",
    "values =[True, False, True, False,True, False, True, False,True, False]\n",
    "ar3[values]"
   ]
  },
  {
   "cell_type": "code",
   "execution_count": 42,
   "id": "b8a8a937-29fe-4f78-9a7d-ad9053043d52",
   "metadata": {},
   "outputs": [
    {
     "data": {
      "text/plain": [
       "array([[39, 64, 68, 30, 48, 59, 50, 14, 12],\n",
       "       [46, 62, 36, 38, 66, 37, 42, 31, 62],\n",
       "       [52, 39, 18, 41, 51, 12, 28, 16, 48],\n",
       "       [30, 36, 28, 67, 31, 59, 62, 23, 27]])"
      ]
     },
     "execution_count": 42,
     "metadata": {},
     "output_type": "execute_result"
    }
   ],
   "source": [
    "ar4 = np.array(random.choices(range(12,70), k = 81)).reshape(9,9)\n",
    "values =[True, False, True, False,True, False, True, False,False]\n",
    "ar4[values]"
   ]
  },
  {
   "cell_type": "code",
   "execution_count": 51,
   "id": "52e2b1c9-da86-495e-8bd4-8afcd1577e25",
   "metadata": {},
   "outputs": [
    {
     "data": {
      "text/plain": [
       "array(['joe', 'joe', 'joe'], dtype='<U5')"
      ]
     },
     "execution_count": 51,
     "metadata": {},
     "output_type": "execute_result"
    }
   ],
   "source": [
    "names = np.array(['bob', 'joe', 'will', 'boboo', 'will', 'joe', 'joe'])\n",
    "names[names == 'joe']"
   ]
  },
  {
   "cell_type": "code",
   "execution_count": 52,
   "id": "8600ce2a-9828-49d6-9710-c2a6831c1761",
   "metadata": {},
   "outputs": [
    {
     "data": {
      "text/plain": [
       "array(['bob', 'kathi', 'will', 'boboo', 'will', 'kathi', 'kathi'],\n",
       "      dtype='<U5')"
      ]
     },
     "execution_count": 52,
     "metadata": {},
     "output_type": "execute_result"
    }
   ],
   "source": [
    "names[names == 'joe'] = 'kathin'\n",
    "names"
   ]
  },
  {
   "cell_type": "code",
   "execution_count": 49,
   "id": "3af72595-ae58-4cbf-b470-4c9f6d2313fe",
   "metadata": {},
   "outputs": [
    {
     "data": {
      "text/plain": [
       "array(['joe', 'will', 'will', 'joe', 'joe'], dtype='<U5')"
      ]
     },
     "execution_count": 49,
     "metadata": {},
     "output_type": "execute_result"
    }
   ],
   "source": [
    "names = np.array(['bob', 'joe', 'will', 'boboo', 'will', 'joe', 'joe'])\n",
    "names[(names == 'joe')| (names == 'will')]"
   ]
  },
  {
   "cell_type": "code",
   "execution_count": null,
   "id": "2088b622-9ea6-4df2-b4f7-bda8901409f3",
   "metadata": {},
   "outputs": [],
   "source": []
  },
  {
   "cell_type": "code",
   "execution_count": null,
   "id": "cd7343fa-e6ab-41b7-958e-4f45a3917d27",
   "metadata": {},
   "outputs": [],
   "source": []
  },
  {
   "cell_type": "code",
   "execution_count": 50,
   "id": "7a663177-586c-4f16-b92b-475ef4711d87",
   "metadata": {},
   "outputs": [],
   "source": [
    "#fancy indexing\n"
   ]
  },
  {
   "cell_type": "code",
   "execution_count": 62,
   "id": "1480e64d-7a88-463f-b605-1a8aacba8093",
   "metadata": {},
   "outputs": [
    {
     "data": {
      "text/plain": [
       "array([[16, 43, 67],\n",
       "       [24, 19, 18],\n",
       "       [21, 23, 12],\n",
       "       [12, 13, 13]])"
      ]
     },
     "execution_count": 62,
     "metadata": {},
     "output_type": "execute_result"
    }
   ],
   "source": [
    "ar5 = np.array([[21,23,12], [12,13,13], [13,45,2], [34,21,34], [24,19,18], [16,43,67]])\n",
    "ar5[[5,4,0,1]]"
   ]
  },
  {
   "cell_type": "code",
   "execution_count": 66,
   "id": "a69c419e-edc0-4514-a122-93066bc6289c",
   "metadata": {},
   "outputs": [
    {
     "data": {
      "text/plain": [
       "array([[16, 19, 23, 17, 21],\n",
       "       [27, 17, 27, 16, 29]])"
      ]
     },
     "execution_count": 66,
     "metadata": {},
     "output_type": "execute_result"
    }
   ],
   "source": [
    "ar6 = np.array(random.choices(range(10,30),k= 10)).reshape(2,5)       #transpose of an array\n",
    "ar6"
   ]
  },
  {
   "cell_type": "code",
   "execution_count": 65,
   "id": "bf30fdce-e905-41c1-915c-86b43278404e",
   "metadata": {},
   "outputs": [],
   "source": [
    "ar7 = np.array(random.choices(range(10,30),k= 10)).reshape(2,5)"
   ]
  },
  {
   "cell_type": "code",
   "execution_count": null,
   "id": "ee20e1a5-dcac-4682-a6f8-fd1a19bd951f",
   "metadata": {},
   "outputs": [],
   "source": []
  }
 ],
 "metadata": {
  "kernelspec": {
   "display_name": "Python 3 (ipykernel)",
   "language": "python",
   "name": "python3"
  },
  "language_info": {
   "codemirror_mode": {
    "name": "ipython",
    "version": 3
   },
   "file_extension": ".py",
   "mimetype": "text/x-python",
   "name": "python",
   "nbconvert_exporter": "python",
   "pygments_lexer": "ipython3",
   "version": "3.13.5"
  }
 },
 "nbformat": 4,
 "nbformat_minor": 5
}
