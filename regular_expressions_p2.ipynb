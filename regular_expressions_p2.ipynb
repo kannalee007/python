{
 "cells": [
  {
   "cell_type": "code",
   "execution_count": 2,
   "id": "e242134e-a513-4d98-9fda-4ee295f18920",
   "metadata": {},
   "outputs": [
    {
     "name": "stdout",
     "output_type": "stream",
     "text": [
      "1   2  3\n"
     ]
    }
   ],
   "source": [
    "                               #ADVANCE OPERATORS:\n",
    "import re                                   # USING: *\n",
    "txt = 'xx1   2  3xx'\n",
    "result = re.search(r'\\d\\s*\\d\\s*\\d', txt)\n",
    "if result:\n",
    "    print(result.group())\n",
    "else:\n",
    "    print(\"sorry\")\n"
   ]
  },
  {
   "cell_type": "code",
   "execution_count": 10,
   "id": "b487038f-fe69-42ee-a53e-c549cb69594a",
   "metadata": {},
   "outputs": [
    {
     "data": {
      "text/plain": [
       "['alice_b@google', 'lokesh_kumar@gmail']"
      ]
     },
     "execution_count": 10,
     "metadata": {},
     "output_type": "execute_result"
    }
   ],
   "source": [
    "text = 'purple alice_b@google.com monkey lokesh_kumar@gmail.com dishwasher'\n",
    "result = re.findall(r'\\w+\\@\\w+', text)                  #using: + operator\n",
    "result"
   ]
  },
  {
   "cell_type": "code",
   "execution_count": 14,
   "id": "cb57f95e-f1de-4c2b-a17e-ea6dd47a06b0",
   "metadata": {},
   "outputs": [
    {
     "data": {
      "text/plain": [
       "['foo1', 'zoo2', 'boo']"
      ]
     },
     "execution_count": 14,
     "metadata": {},
     "output_type": "execute_result"
    }
   ],
   "source": [
    "text = 'foo123barzoo203gatebook'\n",
    "result = re.findall(r'\\woo\\d?',text)                           #using: ? operator\n",
    "result"
   ]
  },
  {
   "cell_type": "code",
   "execution_count": 21,
   "id": "d014caf3-e7eb-4888-9bd1-08c1a32ea80b",
   "metadata": {},
   "outputs": [
    {
     "name": "stdout",
     "output_type": "stream",
     "text": [
      "aaa1    2sss   3aa\n"
     ]
    }
   ],
   "source": [
    "tat = 'aaa1    2sss   3aa'\n",
    "result = re.search(r'\\w+\\s*\\w+\\s*\\w+',tat)\n",
    "if result:\n",
    "    print(result.group())\n",
    "else:\n",
    "    print(\"sorry\")"
   ]
  },
  {
   "cell_type": "code",
   "execution_count": null,
   "id": "e388e87e-128a-417c-b1eb-9076998a5a91",
   "metadata": {},
   "outputs": [],
   "source": [
    "trt = 'aii12bdhfiiii2djjj"
   ]
  }
 ],
 "metadata": {
  "kernelspec": {
   "display_name": "Python 3 (ipykernel)",
   "language": "python",
   "name": "python3"
  },
  "language_info": {
   "codemirror_mode": {
    "name": "ipython",
    "version": 3
   },
   "file_extension": ".py",
   "mimetype": "text/x-python",
   "name": "python",
   "nbconvert_exporter": "python",
   "pygments_lexer": "ipython3",
   "version": "3.13.5"
  }
 },
 "nbformat": 4,
 "nbformat_minor": 5
}
