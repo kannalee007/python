{
 "cells": [
  {
   "cell_type": "code",
   "execution_count": 1,
   "id": "d2af38c6-a666-4041-bf5e-341d23751eb9",
   "metadata": {},
   "outputs": [
    {
     "name": "stdout",
     "output_type": "stream",
     "text": [
      "2 4 "
     ]
    }
   ],
   "source": [
    "i = 2\n",
    "while i<256:\n",
    "    print(str(i)+\" \",end='')\n",
    "    i**=i"
   ]
  },
  {
   "cell_type": "code",
   "execution_count": 5,
   "id": "ecd550f1-59a9-4a55-b12d-4904b5a92f77",
   "metadata": {},
   "outputs": [
    {
     "name": "stdout",
     "output_type": "stream",
     "text": [
      "{'namw': [4, 'Developer', 'Hello Hai', 70.9]}\n"
     ]
    }
   ],
   "source": [
    "a = {'namw':[4, 'Developer', 5, 70.9]}\n",
    "b = a\n",
    "a['namw'][2] = \"Hello Hai\"\n",
    "print(a)"
   ]
  },
  {
   "cell_type": "code",
   "execution_count": 10,
   "id": "6ef1b42d-bd79-4ea8-84e8-f1238bd8b077",
   "metadata": {},
   "outputs": [
    {
     "name": "stdout",
     "output_type": "stream",
     "text": [
      "You rock!\n"
     ]
    }
   ],
   "source": [
    "c = \"manage\"\n",
    "if 3 > 2:\n",
    "    if c == \"manage\": \n",
    "        print(\"You rock!\")\n",
    "        \n",
    "else:\n",
    "        \n",
    "        print(\"Boring\")"
   ]
  },
  {
   "cell_type": "code",
   "execution_count": 13,
   "id": "2f1cd967-1929-4d25-9f48-67725fae42b4",
   "metadata": {},
   "outputs": [
    {
     "name": "stdout",
     "output_type": "stream",
     "text": [
      "[[0], [1], [2]]\n"
     ]
    }
   ],
   "source": [
    "lable = []\n",
    "for i in range(3):\n",
    "    \n",
    "    lable.append([i])\n",
    "for j in range(i, 2):\n",
    "    \n",
    "    lable[i].append(j)\n",
    "print(lable)"
   ]
  },
  {
   "cell_type": "code",
   "execution_count": 4,
   "id": "b794769b-9922-4b31-a3bf-2c4a2c58a22e",
   "metadata": {},
   "outputs": [
    {
     "name": "stdout",
     "output_type": "stream",
     "text": [
      "['welcome', 2, 3, 123, 'menu', 4, 5, 10]\n"
     ]
    }
   ],
   "source": [
    "a = [1,2,3,123,\"menu\",4,5,10]\n",
    "b == a\n",
    "b[0] = \"welcome\"\n",
    "print(b)"
   ]
  },
  {
   "cell_type": "code",
   "execution_count": 6,
   "id": "4b9101a2-6156-4cff-b774-481a4a0d44ec",
   "metadata": {},
   "outputs": [
    {
     "name": "stdout",
     "output_type": "stream",
     "text": [
      "1\n",
      "2\n",
      "3\n",
      "4\n",
      "5\n",
      "6\n",
      "7\n",
      "8\n",
      "9\n",
      "10\n",
      "11\n",
      "12\n",
      "13\n",
      "14\n"
     ]
    }
   ],
   "source": [
    "number = 25897412365478\n",
    "number = str(number)\n",
    "count = 0\n",
    "for I in number:\n",
    "    count += 1\n",
    "    print(count)"
   ]
  },
  {
   "cell_type": "code",
   "execution_count": 9,
   "id": "877975a1-c2b9-4073-8f65-772e9decd223",
   "metadata": {},
   "outputs": [],
   "source": [
    "p = [\"a\", \"b\",[111,109,45,\"hello\"],95,203]\n",
    "q = p.copy()\n",
    "del q[:3]"
   ]
  },
  {
   "cell_type": "code",
   "execution_count": 10,
   "id": "4473d65c-1b4b-4c75-9942-58fe9b2c69e0",
   "metadata": {},
   "outputs": [
    {
     "name": "stdout",
     "output_type": "stream",
     "text": [
      "['a', 'b']\n"
     ]
    }
   ],
   "source": [
    "list=['a']\n",
    "list.append('b')\n",
    "list.append('c')\n",
    "list.pop()\n",
    "list.append('d')\n",
    "list.append('e')\n",
    "print(list[:2])"
   ]
  },
  {
   "cell_type": "code",
   "execution_count": 15,
   "id": "9abae33c-ae16-45ce-8ee5-fb841f7b8a83",
   "metadata": {},
   "outputs": [
    {
     "name": "stdout",
     "output_type": "stream",
     "text": [
      "Jupyter\n"
     ]
    }
   ],
   "source": [
    "s = \"Jupyter$!\"\n",
    "sr = s.rstrip(\"!$\")\n",
    "print(sr)"
   ]
  },
  {
   "cell_type": "code",
   "execution_count": 18,
   "id": "9af698a2-b923-425f-8948-d8c977b178d1",
   "metadata": {},
   "outputs": [
    {
     "name": "stdout",
     "output_type": "stream",
     "text": [
      "Hello\n",
      "Hai\n",
      "How are you?\n",
      "Where are you now?\n",
      "\n"
     ]
    }
   ],
   "source": [
    "a = [\"Hello\", \"Hai\", \"How are you?\", \"Where are you now?\"]\n",
    "with open(\"abc.txt\", \"w\") as f:\n",
    "    \n",
    "    for i in a:\n",
    "        f.write(\"%s\\n\"%i)\n",
    "content = open(\"abc.txt\")\n",
    "print(content.read())"
   ]
  },
  {
   "cell_type": "code",
   "execution_count": 2,
   "id": "97ff489a-f007-4a67-81b0-b10cf6bdc513",
   "metadata": {},
   "outputs": [
    {
     "name": "stdout",
     "output_type": "stream",
     "text": [
      "[1, 2, 5462]\n",
      "[1, 2, 5462, 'Hello']\n",
      "[1, 2, 5462, 'Hello', 0]\n",
      "[1, 2, 5462, 'Hello', 0, 56]\n",
      "[1, 2, 5462, 'Hello', 0, 56, 90]\n"
     ]
    }
   ],
   "source": [
    "a = [234, 1023564, 5462, 'Hello', 0, 56, 90, 'Python']\n",
    "c = [1,2]\n",
    "for i in a[2:-1]:\n",
    "    c.append(i)\n",
    "    print(c)"
   ]
  },
  {
   "cell_type": "code",
   "execution_count": 11,
   "id": "ca92c5ee-d64f-48de-81b7-50c167120479",
   "metadata": {},
   "outputs": [
    {
     "name": "stdout",
     "output_type": "stream",
     "text": [
      "Jany Kate Raju "
     ]
    }
   ],
   "source": [
    "d = {'Jany': '5554441234', 'Kate': '4443331234', 'Raju':\n",
    "'+919848022771'}\n",
    "for k in d:\n",
    "    print (k, end=' ')"
   ]
  },
  {
   "cell_type": "code",
   "execution_count": 14,
   "id": "66b40407-078b-4a6c-93fe-15461fbbd2eb",
   "metadata": {},
   "outputs": [
    {
     "name": "stdout",
     "output_type": "stream",
     "text": [
      "False\n"
     ]
    }
   ],
   "source": [
    "i,j = 10,40\n",
    "if i-j == -50:\n",
    "    print('True')\n",
    "else:\n",
    "    print('False')"
   ]
  },
  {
   "cell_type": "code",
   "execution_count": 15,
   "id": "cadec586-59dd-41fe-8ea2-cd69a07c5878",
   "metadata": {},
   "outputs": [
    {
     "name": "stdout",
     "output_type": "stream",
     "text": [
      "bp\n"
     ]
    }
   ],
   "source": [
    "print('a' + 'p' if 'A12'.isdigit() else 'b' + 'p')"
   ]
  },
  {
   "cell_type": "code",
   "execution_count": 17,
   "id": "34dd4cfa-a19b-49b2-858e-0c00441da5e6",
   "metadata": {},
   "outputs": [
    {
     "name": "stdout",
     "output_type": "stream",
     "text": [
      "12\n"
     ]
    }
   ],
   "source": [
    "a=12\n",
    "b=21\n",
    "print(a)"
   ]
  },
  {
   "cell_type": "code",
   "execution_count": 20,
   "id": "9dd8b387-6158-4691-87a3-71af86154942",
   "metadata": {},
   "outputs": [
    {
     "name": "stdout",
     "output_type": "stream",
     "text": [
      "0 2 4 6 "
     ]
    }
   ],
   "source": [
    "d = [3, 9, 11, 4, 8, 5, 13]\n",
    "for t in range(len(d)):\n",
    "    if t % 2 == 0: \n",
    "       print(t, end=\" \")"
   ]
  },
  {
   "cell_type": "code",
   "execution_count": 22,
   "id": "fcaee3da-5432-4e31-aeaf-635e23c58024",
   "metadata": {},
   "outputs": [
    {
     "name": "stdout",
     "output_type": "stream",
     "text": [
      "First attempt\n"
     ]
    }
   ],
   "source": [
    "x=True\n",
    "y=False\n",
    "z=False\n",
    "if x or y and z:print(\"First attempt\")\n",
    "elif x and y or z:print(\"Second attempt\")\n",
    "else:print(\"Third attempt\")"
   ]
  },
  {
   "cell_type": "code",
   "execution_count": 23,
   "id": "427f8e46-3d62-4d31-b928-823f6565aab7",
   "metadata": {},
   "outputs": [
    {
     "name": "stdout",
     "output_type": "stream",
     "text": [
      "True\n"
     ]
    }
   ],
   "source": [
    "print(bool(True and True or False))"
   ]
  },
  {
   "cell_type": "code",
   "execution_count": null,
   "id": "58ca837d-a374-469e-b813-19016527a066",
   "metadata": {},
   "outputs": [],
   "source": []
  }
 ],
 "metadata": {
  "kernelspec": {
   "display_name": "Python 3 (ipykernel)",
   "language": "python",
   "name": "python3"
  },
  "language_info": {
   "codemirror_mode": {
    "name": "ipython",
    "version": 3
   },
   "file_extension": ".py",
   "mimetype": "text/x-python",
   "name": "python",
   "nbconvert_exporter": "python",
   "pygments_lexer": "ipython3",
   "version": "3.13.5"
  }
 },
 "nbformat": 4,
 "nbformat_minor": 5
}
