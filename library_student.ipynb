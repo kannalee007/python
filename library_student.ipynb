{
 "cells": [
  {
   "cell_type": "code",
   "execution_count": 10,
   "id": "da13f539-d028-4421-ae19-102bf5893b93",
   "metadata": {},
   "outputs": [
    {
     "name": "stdin",
     "output_type": "stream",
     "text": [
      "how many pending books are still with you?: 1\n",
      "what is your behaviour score?: 0\n",
      "what type is your membership?: 1\n"
     ]
    },
    {
     "name": "stdout",
     "output_type": "stream",
     "text": [
      "you need counselling, as 0 is a very low score\n"
     ]
    }
   ],
   "source": [
    "class Library():\n",
    "    try:\n",
    "        choice = int(input(\"how many pending books are still with you?:\"))\n",
    "        score = int(input(\"what is your behaviour score?:\"))\n",
    "        membership = input(\"what type is your membership?:\").lower()\n",
    "        if choice >5:\n",
    "            \n",
    "            print(f\"sorry you are blocked! {choice} as this is your score\")\n",
    "        elif score <50 :\n",
    "            print(f\"you need counselling, as {score} is a very low score\")\n",
    "        elif choice == 0 and score >= 90 and membership == 'premium':\n",
    "            \n",
    "            print(\"congrats you have the full access\")\n",
    "        elif choice <=2 and score >=70 and membership == 'standard':\n",
    "            print(\"congrats you have limited access\")\n",
    "        else:\n",
    "            print(\"acess pending\")\n",
    "    except TypeError:\n",
    "        print(\"sorry\")\n",
    "if __name__ == \"__main__\":\n",
    "    Library()"
   ]
  },
  {
   "cell_type": "code",
   "execution_count": null,
   "id": "49611b26-41f8-4185-9ac8-b6bf0315ce10",
   "metadata": {},
   "outputs": [],
   "source": []
  }
 ],
 "metadata": {
  "kernelspec": {
   "display_name": "Python 3 (ipykernel)",
   "language": "python",
   "name": "python3"
  },
  "language_info": {
   "codemirror_mode": {
    "name": "ipython",
    "version": 3
   },
   "file_extension": ".py",
   "mimetype": "text/x-python",
   "name": "python",
   "nbconvert_exporter": "python",
   "pygments_lexer": "ipython3",
   "version": "3.13.5"
  }
 },
 "nbformat": 4,
 "nbformat_minor": 5
}
