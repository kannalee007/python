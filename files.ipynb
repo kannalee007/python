{
 "cells": [
  {
   "cell_type": "code",
   "execution_count": 1,
   "id": "912affde-d145-473f-80ba-90052bf621fa",
   "metadata": {},
   "outputs": [],
   "source": [
    "with open(\"demo.txt\", \"w\") as file:\n",
    "    file.write(\"Python File Handling Test!\")"
   ]
  },
  {
   "cell_type": "code",
   "execution_count": 2,
   "id": "0fedafcf-1732-41de-b9ff-bfce3bafe4f2",
   "metadata": {},
   "outputs": [
    {
     "name": "stdout",
     "output_type": "stream",
     "text": [
      "Python File Handling Test!\n"
     ]
    }
   ],
   "source": [
    "with open(\"demo.txt\", \"r\") as file:\n",
    "    content = file.read()\n",
    "    print(content)"
   ]
  },
  {
   "cell_type": "code",
   "execution_count": 3,
   "id": "b53cec4e-1ce9-4269-9a5a-e96be8e18608",
   "metadata": {},
   "outputs": [],
   "source": [
    "with open(\"demo.txt\", \"a\") as file:\n",
    "    file.write(\"\\nThis is an appended line.\")"
   ]
  },
  {
   "cell_type": "code",
   "execution_count": 4,
   "id": "49e41ded-8015-46cf-b764-7c975ed48229",
   "metadata": {},
   "outputs": [
    {
     "name": "stdout",
     "output_type": "stream",
     "text": [
      "Python File Handling Test!\n",
      "This is an appended line.\n"
     ]
    }
   ],
   "source": [
    "with open(\"demo.txt\", \"r\") as file:\n",
    "    content = file.read()\n",
    "    print(content)"
   ]
  },
  {
   "cell_type": "code",
   "execution_count": null,
   "id": "93826442-b4c3-42ba-8894-3337e1d43d6e",
   "metadata": {},
   "outputs": [],
   "source": []
  }
 ],
 "metadata": {
  "kernelspec": {
   "display_name": "Python 3 (ipykernel)",
   "language": "python",
   "name": "python3"
  },
  "language_info": {
   "codemirror_mode": {
    "name": "ipython",
    "version": 3
   },
   "file_extension": ".py",
   "mimetype": "text/x-python",
   "name": "python",
   "nbconvert_exporter": "python",
   "pygments_lexer": "ipython3",
   "version": "3.13.5"
  }
 },
 "nbformat": 4,
 "nbformat_minor": 5
}
