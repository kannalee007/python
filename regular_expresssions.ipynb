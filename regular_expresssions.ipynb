{
 "cells": [
  {
   "cell_type": "code",
   "execution_count": 48,
   "id": "f11e844b-046d-4ceb-8b12-7c04e39b0911",
   "metadata": {},
   "outputs": [
    {
     "name": "stdout",
     "output_type": "stream",
     "text": [
      "not found\n"
     ]
    }
   ],
   "source": [
    "import re\n",
    "text = 'piig'\n",
    "result = re.search(r'.n',text)\n",
    "result\n",
    "if result:\n",
    "    print(result.group())\n",
    "else:\n",
    "    print(\"not found\")"
   ]
  },
  {
   "cell_type": "code",
   "execution_count": 17,
   "id": "cad921b8-2cf8-42b5-95f2-ec7748219afb",
   "metadata": {},
   "outputs": [
    {
     "data": {
      "text/plain": [
       "['pig', 'mug', 'bug', 'hug', 'nug', 'nag']"
      ]
     },
     "execution_count": 17,
     "metadata": {},
     "output_type": "execute_result"
    }
   ],
   "source": [
    "text = 'pig,mug bug thug nug, minag'\n",
    "result = re.findall(r'..g', text)\n",
    "result"
   ]
  },
  {
   "cell_type": "code",
   "execution_count": 18,
   "id": "5ccafc05-19bf-4cdd-b8bb-68a6cda48b5e",
   "metadata": {},
   "outputs": [
    {
     "name": "stdout",
     "output_type": "stream",
     "text": [
      "san\n"
     ]
    }
   ],
   "source": [
    "import re\n",
    "txt = '@@@sandsjd!!'\n",
    "result = re.search(r'\\w\\w\\w', txt)\n",
    "if result:\n",
    "    print(result.group())\n",
    "else:\n",
    "    print(\"NAH\")"
   ]
  },
  {
   "cell_type": "code",
   "execution_count": 19,
   "id": "43f8b8b5-1e7d-42a8-88af-8f85ea806fa6",
   "metadata": {},
   "outputs": [
    {
     "data": {
      "text/plain": [
       "['idhg', 'gdhg', 'hahg', 'dchg', 'gdhg']"
      ]
     },
     "execution_count": 19,
     "metadata": {},
     "output_type": "execute_result"
    }
   ],
   "source": [
    "tat = 'pidhg agdhg saxbhahg asgxdchg cagdhg'\n",
    "result = re.findall(r'..hg', tat)\n",
    "result"
   ]
  },
  {
   "cell_type": "code",
   "execution_count": 20,
   "id": "5f93e613-aca6-47c3-8541-5fdf1e975521",
   "metadata": {},
   "outputs": [
    {
     "data": {
      "text/plain": [
       "['@@@', '!!!', '###']"
      ]
     },
     "execution_count": 20,
     "metadata": {},
     "output_type": "execute_result"
    }
   ],
   "source": [
    "import re                              #\\W\n",
    "txt = '@@@nfjvnjfv!!!djwdjc###'\n",
    "result = re.findall(r'\\W\\W\\W',txt)    #PRINT THEM IN GROUPS (FOR EXAMPLE IF 2 \\W ARE THERE, IT PRINT THAT SET OF CHARS)\n",
    "result"
   ]
  },
  {
   "cell_type": "code",
   "execution_count": 26,
   "id": "b2f0d020-91ef-44ff-b0ae-e25fd00ccdda",
   "metadata": {},
   "outputs": [
    {
     "data": {
      "text/plain": [
       "['kaarunya', 'lakshman', 'suresh', 'bro', 'lokesh', 'babu', 'ganesh']"
      ]
     },
     "execution_count": 26,
     "metadata": {},
     "output_type": "execute_result"
    }
   ],
   "source": [
    "names = 'kaarunya lakshman suresh bro\\tlokesh\\nbabu\\rganesh'       #s with split\n",
    "result = re.split(r'\\s',names)\n",
    "result"
   ]
  },
  {
   "cell_type": "code",
   "execution_count": 24,
   "id": "9e8bbd02-6ca8-41b4-87df-0dc47a802195",
   "metadata": {},
   "outputs": [
    {
     "data": {
      "text/plain": [
       "'kaarunya-lakshman-suresh-bro-lokesh-babu-ganesh'"
      ]
     },
     "execution_count": 24,
     "metadata": {},
     "output_type": "execute_result"
    }
   ],
   "source": [
    "result = re.sub(r'\\s','-',names)                  #\\s with sub\n",
    "result                                 #it will replace with any syntax which is present in the white space"
   ]
  },
  {
   "cell_type": "code",
   "execution_count": 27,
   "id": "9228d276-7a4d-4660-bd1a-44255335cc68",
   "metadata": {},
   "outputs": [
    {
     "data": {
      "text/plain": [
       "['',\n",
       " '',\n",
       " '',\n",
       " '',\n",
       " '',\n",
       " '',\n",
       " '',\n",
       " '',\n",
       " ' ',\n",
       " '',\n",
       " '',\n",
       " '',\n",
       " '',\n",
       " '',\n",
       " '',\n",
       " '',\n",
       " ' ',\n",
       " '',\n",
       " '',\n",
       " '',\n",
       " '',\n",
       " '',\n",
       " ' ',\n",
       " '',\n",
       " '',\n",
       " '\\t',\n",
       " '',\n",
       " '',\n",
       " '',\n",
       " '',\n",
       " '',\n",
       " '\\n',\n",
       " '',\n",
       " '',\n",
       " '',\n",
       " '\\r',\n",
       " '',\n",
       " '',\n",
       " '',\n",
       " '',\n",
       " '',\n",
       " '']"
      ]
     },
     "execution_count": 27,
     "metadata": {},
     "output_type": "execute_result"
    }
   ],
   "source": [
    "names = 'kaarunya lakshman suresh bro\\tlokesh\\nbabu\\rganesh'    #S\n",
    "result = re.split(r'\\S',names)\n",
    "result"
   ]
  },
  {
   "cell_type": "code",
   "execution_count": 32,
   "id": "23c6cf94-2dae-4015-9dec-c1e289274565",
   "metadata": {},
   "outputs": [
    {
     "data": {
      "text/plain": [
       "['23', '18']"
      ]
     },
     "execution_count": 32,
     "metadata": {},
     "output_type": "execute_result"
    }
   ],
   "source": [
    "sen = '23 years old will become the new age for voting instead of 18 years'       #\\t\n",
    "result = re.findall(r'\\d\\d', sen)\n",
    "result"
   ]
  },
  {
   "cell_type": "code",
   "execution_count": 33,
   "id": "c2f29fae-53ed-4877-bbb8-96c5f3ff2c44",
   "metadata": {},
   "outputs": [
    {
     "data": {
      "text/plain": [
       "['123', '456']"
      ]
     },
     "execution_count": 33,
     "metadata": {},
     "output_type": "execute_result"
    }
   ],
   "source": [
    "ques = 'p123456r'\n",
    "result = re.findall(r'\\d\\d\\d', ques)     #similar to the \\W where ot depends on the number of \\ syntax\n",
    "result"
   ]
  },
  {
   "cell_type": "code",
   "execution_count": 37,
   "id": "8ce77e8c-7460-4689-a582-47f0ab31644c",
   "metadata": {},
   "outputs": [
    {
     "data": {
      "text/plain": [
       "['rnj', 'dsc']"
      ]
     },
     "execution_count": 37,
     "metadata": {},
     "output_type": "execute_result"
    }
   ],
   "source": [
    "ques = 'p123456rnjdsc'\n",
    "result = re.findall(r'\\D\\D\\D', ques)\n",
    "result"
   ]
  },
  {
   "cell_type": "code",
   "execution_count": 53,
   "id": "90c321d1-71d1-481a-be09-7b8b6e71999f",
   "metadata": {},
   "outputs": [
    {
     "name": "stdout",
     "output_type": "stream",
     "text": [
      "hi\n"
     ]
    }
   ],
   "source": [
    "text = 'hi how are you.'\n",
    "result = re.search(r'\\A\\w\\w', text)                          #\\A\n",
    "if result:\n",
    "    print(result.group())\n",
    "else:\n",
    "    print('nah')"
   ]
  },
  {
   "cell_type": "code",
   "execution_count": 3,
   "id": "693df7a3-5e64-40f3-882a-3b29d681fd0e",
   "metadata": {},
   "outputs": [
    {
     "name": "stdout",
     "output_type": "stream",
     "text": [
      "u\n"
     ]
    }
   ],
   "source": [
    "import re\n",
    "text = 'hi how are you'\n",
    "result = re.search(r'\\w\\Z', text)                          #\\Z\n",
    "if result:\n",
    "    print(result.group())\n",
    "else:\n",
    "    print('nah')"
   ]
  },
  {
   "cell_type": "code",
   "execution_count": null,
   "id": "b8d03512-7913-466a-9a59-594b9e3b65f3",
   "metadata": {},
   "outputs": [],
   "source": []
  }
 ],
 "metadata": {
  "kernelspec": {
   "display_name": "Python 3 (ipykernel)",
   "language": "python",
   "name": "python3"
  },
  "language_info": {
   "codemirror_mode": {
    "name": "ipython",
    "version": 3
   },
   "file_extension": ".py",
   "mimetype": "text/x-python",
   "name": "python",
   "nbconvert_exporter": "python",
   "pygments_lexer": "ipython3",
   "version": "3.13.5"
  }
 },
 "nbformat": 4,
 "nbformat_minor": 5
}
