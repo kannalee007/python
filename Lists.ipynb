{
 "cells": [
  {
   "cell_type": "code",
   "execution_count": 4,
   "id": "547a7a63-b83e-42e0-8910-bb15c68c62b6",
   "metadata": {},
   "outputs": [
    {
     "name": "stdout",
     "output_type": "stream",
     "text": [
      "['7667', 7676, 'asasa', 1234]\n"
     ]
    }
   ],
   "source": [
    "l1 = [1234,7676,'asasa','7667']\n",
    "l1[0],l1[3]=l1[3],l1[0]\n",
    "print(l1)"
   ]
  },
  {
   "cell_type": "markdown",
   "id": "abbe648a-e05f-47f8-bf32-8d06e2d1034d",
   "metadata": {},
   "source": [
    "1234 in l1"
   ]
  },
  {
   "cell_type": "code",
   "execution_count": 5,
   "id": "84c5b821-9945-49ff-9fdc-a2dadf0e7625",
   "metadata": {},
   "outputs": [
    {
     "data": {
      "text/plain": [
       "True"
      ]
     },
     "execution_count": 5,
     "metadata": {},
     "output_type": "execute_result"
    }
   ],
   "source": [
    "1234 in l1\n"
   ]
  },
  {
   "cell_type": "code",
   "execution_count": 7,
   "id": "f6920dcc-9cb1-4646-8916-14290f2d96ef",
   "metadata": {},
   "outputs": [
    {
     "data": {
      "text/plain": [
       "['__add__',\n",
       " '__class__',\n",
       " '__class_getitem__',\n",
       " '__contains__',\n",
       " '__delattr__',\n",
       " '__delitem__',\n",
       " '__dir__',\n",
       " '__doc__',\n",
       " '__eq__',\n",
       " '__format__',\n",
       " '__ge__',\n",
       " '__getattribute__',\n",
       " '__getitem__',\n",
       " '__getstate__',\n",
       " '__gt__',\n",
       " '__hash__',\n",
       " '__iadd__',\n",
       " '__imul__',\n",
       " '__init__',\n",
       " '__init_subclass__',\n",
       " '__iter__',\n",
       " '__le__',\n",
       " '__len__',\n",
       " '__lt__',\n",
       " '__mul__',\n",
       " '__ne__',\n",
       " '__new__',\n",
       " '__reduce__',\n",
       " '__reduce_ex__',\n",
       " '__repr__',\n",
       " '__reversed__',\n",
       " '__rmul__',\n",
       " '__setattr__',\n",
       " '__setitem__',\n",
       " '__sizeof__',\n",
       " '__str__',\n",
       " '__subclasshook__',\n",
       " 'append',\n",
       " 'clear',\n",
       " 'copy',\n",
       " 'count',\n",
       " 'extend',\n",
       " 'index',\n",
       " 'insert',\n",
       " 'pop',\n",
       " 'remove',\n",
       " 'reverse',\n",
       " 'sort']"
      ]
     },
     "execution_count": 7,
     "metadata": {},
     "output_type": "execute_result"
    }
   ],
   "source": [
    "dir(list)\n"
   ]
  },
  {
   "cell_type": "code",
   "execution_count": 9,
   "id": "65b796fe-910f-4eea-b9a2-6fe0636e85a4",
   "metadata": {},
   "outputs": [
    {
     "data": {
      "text/plain": [
       "<function list.remove(value, /)>"
      ]
     },
     "execution_count": 9,
     "metadata": {},
     "output_type": "execute_result"
    }
   ],
   "source": [
    "l1.remove\n"
   ]
  },
  {
   "cell_type": "code",
   "execution_count": 10,
   "id": "29270f62-8223-46fe-a0ca-ad6f38888b06",
   "metadata": {},
   "outputs": [],
   "source": [
    "l1 = [1234,7676,'asasa','7667']"
   ]
  },
  {
   "cell_type": "code",
   "execution_count": 14,
   "id": "d23e9358-8247-4851-a116-ecc0af2cda5c",
   "metadata": {},
   "outputs": [
    {
     "name": "stdout",
     "output_type": "stream",
     "text": [
      "<built-in method reverse of list object at 0x1091c8300>\n"
     ]
    }
   ],
   "source": [
    "l2 = l1.reverse\n",
    "print(l2)"
   ]
  },
  {
   "cell_type": "code",
   "execution_count": 20,
   "id": "0cc34855-9387-403f-8999-54258b90d1b7",
   "metadata": {
    "scrolled": true
   },
   "outputs": [
    {
     "name": "stdout",
     "output_type": "stream",
     "text": [
      "[1, 2, 3]\n"
     ]
    }
   ],
   "source": [
    "original = [1, 2, 3]\n",
    "copy_list = original.copy()\n",
    "print(copy_list)\n"
   ]
  },
  {
   "cell_type": "code",
   "execution_count": 21,
   "id": "fcfac586-3f48-43e4-80e5-22d591a86d87",
   "metadata": {},
   "outputs": [
    {
     "name": "stdout",
     "output_type": "stream",
     "text": [
      "Original List: [1, 2, 3, 4, 5]\n",
      "Cloned List:   [1, 2, 3, 4, 5]\n"
     ]
    }
   ],
   "source": [
    "original = [1, 2, 3, 4, 5]\n",
    "copy_list = []\n",
    "\n",
    "for item in original:\n",
    "    copy_list.append(item)\n",
    "\n",
    "print(\"Original List:\", original)\n",
    "print(\"Cloned List:  \", copy_list)"
   ]
  },
  {
   "cell_type": "code",
   "execution_count": 5,
   "id": "817a0f50-e2c8-43c3-afb0-66046dbb954e",
   "metadata": {},
   "outputs": [
    {
     "name": "stdout",
     "output_type": "stream",
     "text": [
      "1\n",
      "3\n",
      "5\n",
      "7\n",
      "9\n"
     ]
    }
   ],
   "source": [
    "lis1 = [1,2,3,4,5,6,7,8,9]\n",
    "for odd in lis1:\n",
    "    if odd % 2!=0:\n",
    "        print(odd)"
   ]
  },
  {
   "cell_type": "code",
   "execution_count": 13,
   "id": "b1410d39-5597-48d9-8f34-88f82f350553",
   "metadata": {},
   "outputs": [
    {
     "name": "stdout",
     "output_type": "stream",
     "text": [
      "2\n",
      "4\n",
      "6\n",
      "8\n",
      "10\n",
      "12\n",
      "14\n",
      "16\n",
      "18\n",
      "20\n",
      "22\n",
      "24\n",
      "26\n",
      "28\n",
      "30\n",
      "32\n",
      "34\n",
      "36\n",
      "38\n",
      "40\n",
      "42\n",
      "44\n",
      "46\n",
      "48\n",
      "50\n",
      "52\n",
      "54\n",
      "56\n",
      "58\n",
      "60\n",
      "62\n",
      "64\n",
      "66\n",
      "68\n",
      "70\n",
      "72\n",
      "74\n",
      "76\n",
      "78\n",
      "80\n",
      "82\n",
      "84\n",
      "86\n",
      "88\n",
      "90\n",
      "92\n",
      "94\n",
      "96\n",
      "98\n"
     ]
    }
   ],
   "source": [
    "\n",
    "for i in range(1,100):\n",
    "    if i % 2==0:\n",
    "        print(i)"
   ]
  },
  {
   "cell_type": "code",
   "execution_count": 20,
   "id": "cfaa4fc6-db19-4e4e-9eb5-fc45e8383259",
   "metadata": {},
   "outputs": [
    {
     "name": "stdout",
     "output_type": "stream",
     "text": [
      "smallest value is: 8\n"
     ]
    }
   ],
   "source": [
    "li1 = [6,2,3,4,5,6,1,8,-1]\n",
    "print(\"smallest value is:\",max(li1))"
   ]
  },
  {
   "cell_type": "code",
   "execution_count": 27,
   "id": "3a07c181-d1ef-47a2-8153-3bd1150f9ae3",
   "metadata": {},
   "outputs": [
    {
     "name": "stdout",
     "output_type": "stream",
     "text": [
      "negative: -1\n",
      "negative: -2\n",
      "negative: -3\n",
      "positive: 12\n",
      "positive: 32\n",
      "positive: 45\n",
      "positive: 6\n"
     ]
    }
   ],
   "source": [
    "li3 = [-1,-2,-3,12,32,45,6]\n",
    "for inte in li3:\n",
    "    if inte <0:\n",
    "        print(\"negative:\",inte)\n",
    "    else:\n",
    "        print(\"positive:\",inte)"
   ]
  },
  {
   "cell_type": "code",
   "execution_count": 30,
   "id": "9dcd6048-db13-41dc-a4da-5397ac87a00d",
   "metadata": {},
   "outputs": [
    {
     "name": "stdout",
     "output_type": "stream",
     "text": [
      "big: abc\n",
      "small: a\n",
      "small: b\n",
      "small: c\n"
     ]
    }
   ],
   "source": [
    "li4 = ['abc','a','b','c']\n",
    "for small in li4:\n",
    "    if len(small) > 1:\n",
    "        print(\"big:\",small)\n",
    "    else:\n",
    "        print(\"small:\",small)"
   ]
  },
  {
   "cell_type": "code",
   "execution_count": 42,
   "id": "5406b24b-1f7d-460e-9776-e86868f91a98",
   "metadata": {},
   "outputs": [
    {
     "name": "stdout",
     "output_type": "stream",
     "text": [
      "removed\n",
      "['sasss', 'nani', 'ssasas', '', 'l', 'lol', '']\n",
      "['sasss', 'nani', 'ssasas', '', 'l', 'lol', '']\n",
      "removed\n",
      "['sasss', 'nani', 'ssasas', 'l', 'lol', '']\n",
      "removed\n"
     ]
    }
   ],
   "source": [
    "li5 = ['','sasss','nani','ssasas','','l','lol','']\n",
    "for sos in li5:\n",
    "    if len(sos) == 0:\n",
    "        li5.remove(sos)\n",
    "        print(\"removed\")\n",
    "    else:\n",
    "        print(li5)"
   ]
  },
  {
   "cell_type": "code",
   "execution_count": null,
   "id": "6e1aac53-1c1f-4af0-87f1-c7b5f8bf82b8",
   "metadata": {},
   "outputs": [],
   "source": []
  }
 ],
 "metadata": {
  "kernelspec": {
   "display_name": "Python 3 (ipykernel)",
   "language": "python",
   "name": "python3"
  },
  "language_info": {
   "codemirror_mode": {
    "name": "ipython",
    "version": 3
   },
   "file_extension": ".py",
   "mimetype": "text/x-python",
   "name": "python",
   "nbconvert_exporter": "python",
   "pygments_lexer": "ipython3",
   "version": "3.13.5"
  }
 },
 "nbformat": 4,
 "nbformat_minor": 5
}
