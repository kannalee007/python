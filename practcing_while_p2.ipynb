{
 "cells": [
  {
   "cell_type": "code",
   "execution_count": 1,
   "id": "7c9bc4e9-bfea-49d8-ae08-b557f7799213",
   "metadata": {},
   "outputs": [
    {
     "name": "stdin",
     "output_type": "stream",
     "text": [
      "enter your number: 5\n"
     ]
    },
    {
     "name": "stdout",
     "output_type": "stream",
     "text": [
      "0\n",
      "1\n",
      "2\n",
      "3\n",
      "4\n",
      "5\n"
     ]
    }
   ],
   "source": [
    "a = int(input(\"enter your number:\"))\n",
    "b = 0\n",
    "while b<=a:\n",
    "    print(b)\n",
    "    b +=1"
   ]
  },
  {
   "cell_type": "code",
   "execution_count": 4,
   "id": "79675845-fc1c-4621-baa5-dfb4b7d4821d",
   "metadata": {},
   "outputs": [
    {
     "name": "stdin",
     "output_type": "stream",
     "text": [
      "enter you number: 9\n"
     ]
    },
    {
     "name": "stdout",
     "output_type": "stream",
     "text": [
      "45\n"
     ]
    }
   ],
   "source": [
    "ab = int(input(\"enter you number:\"))\n",
    "ba = 1\n",
    "sum = 0\n",
    "while ba<=ab:\n",
    "    sum = sum + ba\n",
    "    ba +=1\n",
    "print(sum)\n",
    "    \n",
    "    "
   ]
  },
  {
   "cell_type": "code",
   "execution_count": 1,
   "id": "0e6861d2-59a2-4ce6-b0f8-f6cb39cdc659",
   "metadata": {},
   "outputs": [
    {
     "name": "stdin",
     "output_type": "stream",
     "text": [
      "enter your number: 9\n"
     ]
    },
    {
     "name": "stdout",
     "output_type": "stream",
     "text": [
      "362880\n"
     ]
    }
   ],
   "source": [
    "aba = int(input(\"enter your number:\"))\n",
    "baa = 1\n",
    "mult = 1\n",
    "while baa<=aba:\n",
    "    mult = mult*baa\n",
    "    baa+=1\n",
    "print(mult)"
   ]
  },
  {
   "cell_type": "code",
   "execution_count": 8,
   "id": "57c529c6-8654-4ab1-ab0f-841835cff181",
   "metadata": {},
   "outputs": [
    {
     "name": "stdout",
     "output_type": "stream",
     "text": [
      "1\n",
      "5\n"
     ]
    }
   ],
   "source": [
    "nums = [1,2,3,4,5]\n",
    "print(nums[0])\n",
    "print(nums[4])\n"
   ]
  },
  {
   "cell_type": "code",
   "execution_count": 20,
   "id": "5f276a78-0d7b-4ea9-9be7-5e04d1fc1d89",
   "metadata": {},
   "outputs": [
    {
     "name": "stdout",
     "output_type": "stream",
     "text": [
      "36\n"
     ]
    }
   ],
   "source": [
    "nums1 = [5,6,7,8,9,1]\n",
    "i = 0\n",
    "sum = 0\n",
    "while i < len(nums1):\n",
    "    sum = sum + nums1[i]\n",
    "    i +=1\n",
    "print(sum)"
   ]
  },
  {
   "cell_type": "code",
   "execution_count": 28,
   "id": "695cd7fd-169c-41c5-8f5d-db4b7ca09470",
   "metadata": {},
   "outputs": [
    {
     "name": "stdout",
     "output_type": "stream",
     "text": [
      "99\n"
     ]
    }
   ],
   "source": [
    "nums = [5, 10, 3, 99, 2]\n",
    "i = 1  # Start from index 1\n",
    "max_number = nums[0]  # First number assumed as max\n",
    "\n",
    "while i < len(nums):\n",
    "    if nums[i] > max_number:\n",
    "        max_number = nums[i]  # Update max if current number is larger\n",
    "    i += 1  # Move to next index\n",
    "\n",
    "print(max_number)"
   ]
  },
  {
   "cell_type": "code",
   "execution_count": 29,
   "id": "6bf6795e-b4f9-44c6-b185-91043e246ee5",
   "metadata": {},
   "outputs": [
    {
     "name": "stdout",
     "output_type": "stream",
     "text": [
      "0\n"
     ]
    }
   ],
   "source": [
    "n1 = [1,334,55,67,0]\n",
    "i = 0\n",
    "min_number = n1[0]\n",
    "while i < len(n1):\n",
    "    if n1[i] < min_number:\n",
    "        min_number = n1[i]\n",
    "    i+=1\n",
    "print(min_number)"
   ]
  },
  {
   "cell_type": "code",
   "execution_count": 36,
   "id": "af12ce9f-4af2-4617-a4b0-96a042903d38",
   "metadata": {},
   "outputs": [
    {
     "name": "stdout",
     "output_type": "stream",
     "text": [
      "found at: 12\n"
     ]
    }
   ],
   "source": [
    "n2 = [1,2,3,4,5,6,7,8,9,9,12,33]\n",
    "target = 12\n",
    "i = 0\n",
    "while i <len(n2):\n",
    "    if n2[i] == target:\n",
    "        print(\"found at:\",n2[i])\n",
    "        break\n",
    "    i+=1"
   ]
  },
  {
   "cell_type": "code",
   "execution_count": null,
   "id": "a5c5fc09-f8e6-4c74-b1b2-f08e732cb4c7",
   "metadata": {},
   "outputs": [],
   "source": []
  }
 ],
 "metadata": {
  "kernelspec": {
   "display_name": "Python 3 (ipykernel)",
   "language": "python",
   "name": "python3"
  },
  "language_info": {
   "codemirror_mode": {
    "name": "ipython",
    "version": 3
   },
   "file_extension": ".py",
   "mimetype": "text/x-python",
   "name": "python",
   "nbconvert_exporter": "python",
   "pygments_lexer": "ipython3",
   "version": "3.13.5"
  }
 },
 "nbformat": 4,
 "nbformat_minor": 5
}
