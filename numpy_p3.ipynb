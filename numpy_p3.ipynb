{
 "cells": [
  {
   "cell_type": "code",
   "execution_count": 7,
   "id": "19663ab2-7670-4048-b4e0-5b1b5c30e7b3",
   "metadata": {},
   "outputs": [
    {
     "data": {
      "text/plain": [
       "array([[ 0.62056346, -0.73341459,  0.41001804, -0.53019673,  1.29739073,\n",
       "         0.00737916],\n",
       "       [-1.81719352,  0.55061294, -0.60074953,  0.67644021,  0.56039394,\n",
       "        -0.47042988],\n",
       "       [ 0.70939859,  0.01181479,  0.79963258,  0.24876133, -1.82632428,\n",
       "         0.00934281]])"
      ]
     },
     "execution_count": 7,
     "metadata": {},
     "output_type": "execute_result"
    }
   ],
   "source": [
    "import numpy as np\n",
    "rng = np.random.default_rng(seed=79)                          #SEED: SAME ARRAY WE WILL GET EVEN THOUGH WE USE RANDOM.\n",
    "arr1 = rng.standard_normal((3,6))\n",
    "arr1"
   ]
  },
  {
   "cell_type": "code",
   "execution_count": 8,
   "id": "d2effb3f-4d13-4a4f-a6ed-420b917f03f0",
   "metadata": {},
   "outputs": [
    {
     "data": {
      "text/plain": [
       "array([[ 0.62056346, -0.73341459,  0.41001804, -0.53019673,  1.29739073,\n",
       "         0.00737916],\n",
       "       [-1.81719352,  0.55061294, -0.60074953,  0.67644021,  0.56039394,\n",
       "        -0.47042988],\n",
       "       [ 0.70939859,  0.01181479,  0.79963258,  0.24876133, -1.82632428,\n",
       "         0.00934281]])"
      ]
     },
     "execution_count": 8,
     "metadata": {},
     "output_type": "execute_result"
    }
   ],
   "source": [
    "rng = np.random.default_rng(seed=79)\n",
    "arr1 = rng.standard_normal((3,6))\n",
    "arr1"
   ]
  },
  {
   "cell_type": "code",
   "execution_count": 25,
   "id": "3f0b55da-d9fb-4f96-b0ae-b109608cbb83",
   "metadata": {},
   "outputs": [
    {
     "data": {
      "text/plain": [
       "array([[21, 15, 24, 29, 31,  4],\n",
       "       [29, 13, 18,  2,  3, 48],\n",
       "       [19, 11, 26, 12, 20,  1],\n",
       "       [34, 43, 18,  2, 13, 27]])"
      ]
     },
     "execution_count": 25,
     "metadata": {},
     "output_type": "execute_result"
    }
   ],
   "source": [
    "import random\n",
    "ar2 = np.array(random.choices(range(1,50), k = 24)).reshape(4,6)\n",
    "ar2"
   ]
  },
  {
   "cell_type": "code",
   "execution_count": 26,
   "id": "d43e7a84-eef4-4e35-a2d8-79e87ef1ac1c",
   "metadata": {},
   "outputs": [
    {
     "data": {
      "text/plain": [
       "array([[ 441,  225,  576,  841,  961,   16],\n",
       "       [ 841,  169,  324,    4,    9, 2304],\n",
       "       [ 361,  121,  676,  144,  400,    1],\n",
       "       [1156, 1849,  324,    4,  169,  729]])"
      ]
     },
     "execution_count": 26,
     "metadata": {},
     "output_type": "execute_result"
    }
   ],
   "source": [
    "np.square(ar2)"
   ]
  },
  {
   "cell_type": "code",
   "execution_count": 27,
   "id": "d0390b3c-bac3-49ad-a77c-cf07ced583ce",
   "metadata": {},
   "outputs": [
    {
     "data": {
      "text/plain": [
       "array([[4.58257569, 3.87298335, 4.89897949, 5.38516481, 5.56776436,\n",
       "        2.        ],\n",
       "       [5.38516481, 3.60555128, 4.24264069, 1.41421356, 1.73205081,\n",
       "        6.92820323],\n",
       "       [4.35889894, 3.31662479, 5.09901951, 3.46410162, 4.47213595,\n",
       "        1.        ],\n",
       "       [5.83095189, 6.55743852, 4.24264069, 1.41421356, 3.60555128,\n",
       "        5.19615242]])"
      ]
     },
     "execution_count": 27,
     "metadata": {},
     "output_type": "execute_result"
    }
   ],
   "source": [
    "np.sqrt(ar2)"
   ]
  },
  {
   "cell_type": "code",
   "execution_count": 28,
   "id": "92670044-4e18-4290-ba66-656f1c56e82a",
   "metadata": {},
   "outputs": [
    {
     "data": {
      "text/plain": [
       "array([[43, 31, 37, 21, 49, 22],\n",
       "       [24, 48, 49, 21, 26, 21],\n",
       "       [45, 26, 46, 23, 48, 36],\n",
       "       [40, 21, 32, 34, 36, 31]])"
      ]
     },
     "execution_count": 28,
     "metadata": {},
     "output_type": "execute_result"
    }
   ],
   "source": [
    "ar3 = np.array(random.choices(range(20,50),k= 24)).reshape(4,6)\n",
    "ar3"
   ]
  },
  {
   "cell_type": "code",
   "execution_count": 29,
   "id": "0d00fa34-9eaa-46b8-8d48-1ea2cfc11185",
   "metadata": {},
   "outputs": [
    {
     "data": {
      "text/plain": [
       "array([[64, 46, 61, 50, 80, 26],\n",
       "       [53, 61, 67, 23, 29, 69],\n",
       "       [64, 37, 72, 35, 68, 37],\n",
       "       [74, 64, 50, 36, 49, 58]])"
      ]
     },
     "execution_count": 29,
     "metadata": {},
     "output_type": "execute_result"
    }
   ],
   "source": [
    "np.add(ar2,ar3)"
   ]
  },
  {
   "cell_type": "code",
   "execution_count": 32,
   "id": "8ef43c98-188f-4f8f-be62-6712b17bfdcf",
   "metadata": {},
   "outputs": [
    {
     "data": {
      "text/plain": [
       "array([[20, 25, 26, 25],\n",
       "       [24, 24, 22, 28],\n",
       "       [29, 21, 20, 22]])"
      ]
     },
     "execution_count": 32,
     "metadata": {},
     "output_type": "execute_result"
    }
   ],
   "source": [
    "ar4 = np.array(random.choices(range(20,30), k = 20)).reshape(5,4)\n",
    "values = [True, False,True,True, False]\n",
    "ar4[values]"
   ]
  },
  {
   "cell_type": "code",
   "execution_count": 41,
   "id": "a3d6b9e0-984e-4746-a371-995a114620f8",
   "metadata": {},
   "outputs": [
    {
     "data": {
      "text/plain": [
       "array([[[1, 2, 3, 4],\n",
       "        [1, 2, 3, 4],\n",
       "        [1, 2, 3, 4]],\n",
       "\n",
       "       [[1, 2, 3, 4],\n",
       "        [1, 2, 3, 4],\n",
       "        [1, 2, 3, 4]],\n",
       "\n",
       "       [[1, 2, 3, 4],\n",
       "        [1, 2, 3, 4],\n",
       "        [1, 2, 3, 4]]])"
      ]
     },
     "execution_count": 41,
     "metadata": {},
     "output_type": "execute_result"
    }
   ],
   "source": [
    "ar5 = np.array([[[1,2,3,4],[1,2,3,4],[1,2,3,4]],[[1,2,3,4],[1,2,3,4],[1,2,3,4]],[[1,2,3,4],[1,2,3,4],[1,2,3,4]],[[1,2,3,4],[1,2,3,4],[1,2,3,4]]])\n",
    "values  = [True, False,True,True]\n",
    "ar5[values]"
   ]
  },
  {
   "cell_type": "code",
   "execution_count": 52,
   "id": "7bff8b69-9e01-4a3d-84b6-c74c990ea4b7",
   "metadata": {},
   "outputs": [
    {
     "data": {
      "text/plain": [
       "array([[40, 10, 15,  4, 21,  9, 11, 35,  8],\n",
       "       [37, 25, 16, 20,  6,  5, 42, 34,  4],\n",
       "       [ 1, 11, 32, 18, 30,  0,  6, 44, 13],\n",
       "       [20, 39, 14, 15, 16, 47, 11, 49,  8],\n",
       "       [20, 23, 21, 28, 20, 49,  6, 37, 36]])"
      ]
     },
     "execution_count": 52,
     "metadata": {},
     "output_type": "execute_result"
    }
   ],
   "source": [
    "ar6 = np.random.randint(50,size=(5,9))\n",
    "ar6"
   ]
  },
  {
   "cell_type": "code",
   "execution_count": 53,
   "id": "10577bdb-0c7b-4f00-b7c6-36f62af50b3f",
   "metadata": {},
   "outputs": [
    {
     "data": {
      "text/plain": [
       "array([[ 1, 10, 14,  4,  6,  0,  6, 34,  4],\n",
       "       [20, 11, 15, 15, 16,  5,  6, 35,  8],\n",
       "       [20, 23, 16, 18, 20,  9, 11, 37,  8],\n",
       "       [37, 25, 21, 20, 21, 47, 11, 44, 13],\n",
       "       [40, 39, 32, 28, 30, 49, 42, 49, 36]])"
      ]
     },
     "execution_count": 53,
     "metadata": {},
     "output_type": "execute_result"
    }
   ],
   "source": [
    "ar6.sort(axis = 0)   #WE CAN SEE THAT ITS BEING SORTED AS IN ROWS IT MEANS --------------------->(THIS DIRECTION FOR EVERY ROW)\n",
    "ar6"
   ]
  },
  {
   "cell_type": "code",
   "execution_count": 54,
   "id": "c87db0fb-4c20-4c87-98b2-c885488b4b5d",
   "metadata": {},
   "outputs": [
    {
     "data": {
      "text/plain": [
       "array([[ 0,  1,  4,  4,  6,  6, 10, 14, 34],\n",
       "       [ 5,  6,  8, 11, 15, 15, 16, 20, 35],\n",
       "       [ 8,  9, 11, 16, 18, 20, 20, 23, 37],\n",
       "       [11, 13, 20, 21, 21, 25, 37, 44, 47],\n",
       "       [28, 30, 32, 36, 39, 40, 42, 49, 49]])"
      ]
     },
     "execution_count": 54,
     "metadata": {},
     "output_type": "execute_result"
    }
   ],
   "source": [
    "ar6.sort(axis = 1) #WE CAN SEE THAT ITS BEING SORTED AS IN CLOUMS\n",
    "ar6"
   ]
  },
  {
   "cell_type": "code",
   "execution_count": 59,
   "id": "120522b8-47b4-4c83-a4c2-acc9144d61e2",
   "metadata": {},
   "outputs": [
    {
     "data": {
      "text/plain": [
       "array([[27, 18, 15, 19,  0],\n",
       "       [ 4,  2, 10, 27,  4],\n",
       "       [29,  6, 39, 27, 33],\n",
       "       [38, 19, 10, 33,  3]])"
      ]
     },
     "execution_count": 59,
     "metadata": {},
     "output_type": "execute_result"
    }
   ],
   "source": [
    "#SET THEORY\n",
    "ar7 = np.random.randint(40, size = (4,5))\n",
    "ar8 = np.random.randint(30, size = (4,5))\n",
    "ar7"
   ]
  },
  {
   "cell_type": "code",
   "execution_count": 60,
   "id": "6327ba94-d953-410d-ae13-775f91d24cda",
   "metadata": {},
   "outputs": [
    {
     "data": {
      "text/plain": [
       "array([[ 2, 13, 20, 18, 28],\n",
       "       [ 6, 24, 28, 20,  0],\n",
       "       [16,  8, 19,  3,  1],\n",
       "       [15, 10, 23, 24,  4]])"
      ]
     },
     "execution_count": 60,
     "metadata": {},
     "output_type": "execute_result"
    }
   ],
   "source": [
    "ar8"
   ]
  },
  {
   "cell_type": "code",
   "execution_count": 70,
   "id": "933e54ea-012c-4d18-9850-12dc524a4520",
   "metadata": {},
   "outputs": [
    {
     "data": {
      "text/plain": [
       "(array([ 0,  2,  3,  4,  6, 10, 15, 18, 19]),\n",
       " array([ 4,  6, 19,  5, 11,  7,  2,  1,  3]),\n",
       " array([ 9,  0, 13, 19,  5, 16, 15,  3, 12]))"
      ]
     },
     "execution_count": 70,
     "metadata": {},
     "output_type": "execute_result"
    }
   ],
   "source": [
    "np.intersect1d(ar7,ar8,assume_unique = False, return_indices = True)"
   ]
  },
  {
   "cell_type": "code",
   "execution_count": 71,
   "id": "1c29d667-8b7f-4ddc-9004-74110243a737",
   "metadata": {},
   "outputs": [
    {
     "data": {
      "text/plain": [
       "array([[False,  True,  True,  True,  True],\n",
       "       [ True,  True,  True, False,  True],\n",
       "       [False,  True, False, False, False],\n",
       "       [False,  True,  True, False,  True]])"
      ]
     },
     "execution_count": 71,
     "metadata": {},
     "output_type": "execute_result"
    }
   ],
   "source": [
    "np.isin(ar7,ar8)"
   ]
  },
  {
   "cell_type": "code",
   "execution_count": 77,
   "id": "890b3421-d5e0-4997-a95d-d4c63a565207",
   "metadata": {},
   "outputs": [
    {
     "data": {
      "text/plain": [
       "array([ 0,  1,  2,  3,  4,  5,  6,  7,  8,  9, 10, 11, 12, 13, 14, 15, 16,\n",
       "       17, 18, 19, 20, 21, 22, 23, 24, 25, 26, 27, 28, 29])"
      ]
     },
     "execution_count": 77,
     "metadata": {},
     "output_type": "execute_result"
    }
   ],
   "source": [
    "ar9 = np.arange(30)\n",
    "ar9"
   ]
  },
  {
   "cell_type": "code",
   "execution_count": 78,
   "id": "5fa58c8d-c799-4e9e-8e0e-f637112477fa",
   "metadata": {},
   "outputs": [
    {
     "data": {
      "text/plain": [
       "array([[ 0,  1,  2,  3,  4,  5],\n",
       "       [ 6,  7,  8,  9, 10, 11],\n",
       "       [12, 13, 14, 15, 16, 17],\n",
       "       [18, 19, 20, 21, 22, 23],\n",
       "       [24, 25, 26, 27, 28, 29]])"
      ]
     },
     "execution_count": 78,
     "metadata": {},
     "output_type": "execute_result"
    }
   ],
   "source": [
    "ar9.reshape(5,6)"
   ]
  },
  {
   "cell_type": "code",
   "execution_count": 79,
   "id": "679a7652-01bd-413a-a0b0-0008131a73ca",
   "metadata": {},
   "outputs": [
    {
     "data": {
      "text/plain": [
       "array([ 0,  1,  2,  3,  4,  5,  6,  7,  8,  9, 10, 11, 12, 13, 14, 15, 16,\n",
       "       17, 18, 19, 20, 21, 22, 23, 24, 25, 26, 27, 28, 29])"
      ]
     },
     "execution_count": 79,
     "metadata": {},
     "output_type": "execute_result"
    }
   ],
   "source": [
    "ar9.flatten()"
   ]
  },
  {
   "cell_type": "code",
   "execution_count": 83,
   "id": "febfd94f-20d8-44e8-9b95-164e2244bc31",
   "metadata": {},
   "outputs": [
    {
     "data": {
      "text/plain": [
       "array([[27, 18, 15, 19,  0,  2, 13, 20, 18, 28],\n",
       "       [ 4,  2, 10, 27,  4,  6, 24, 28, 20,  0],\n",
       "       [29,  6, 39, 27, 33, 16,  8, 19,  3,  1],\n",
       "       [38, 19, 10, 33,  3, 15, 10, 23, 24,  4]])"
      ]
     },
     "execution_count": 83,
     "metadata": {},
     "output_type": "execute_result"
    }
   ],
   "source": [
    "np.concatenate([ar7,ar8], axis = 1)"
   ]
  },
  {
   "cell_type": "code",
   "execution_count": null,
   "id": "64309882-a1f0-4f04-95ec-5c496f367f7a",
   "metadata": {},
   "outputs": [],
   "source": []
  }
 ],
 "metadata": {
  "kernelspec": {
   "display_name": "Python 3 (ipykernel)",
   "language": "python",
   "name": "python3"
  },
  "language_info": {
   "codemirror_mode": {
    "name": "ipython",
    "version": 3
   },
   "file_extension": ".py",
   "mimetype": "text/x-python",
   "name": "python",
   "nbconvert_exporter": "python",
   "pygments_lexer": "ipython3",
   "version": "3.13.5"
  }
 },
 "nbformat": 4,
 "nbformat_minor": 5
}
