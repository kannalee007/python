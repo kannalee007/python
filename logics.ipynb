{
 "cells": [
  {
   "cell_type": "code",
   "execution_count": 1,
   "id": "c085922f-3a3d-497a-bb58-54ac234b1390",
   "metadata": {},
   "outputs": [
    {
     "name": "stdin",
     "output_type": "stream",
     "text": [
      "enter your number 6\n"
     ]
    },
    {
     "name": "stdout",
     "output_type": "stream",
     "text": [
      "it is a even number\n"
     ]
    }
   ],
   "source": [
    "a = int(input(\"enter your number\"))\n",
    "if a%2==0:\n",
    "    print(\"it is a even number\")\n",
    "else:\n",
    "    print(\"it is a odd number\")"
   ]
  },
  {
   "cell_type": "code",
   "execution_count": 5,
   "id": "aa714c7f-5f5c-4dd9-b9c2-f52b05a1d47c",
   "metadata": {},
   "outputs": [
    {
     "name": "stdin",
     "output_type": "stream",
     "text": [
      "enter your 1st number: 3\n",
      "enter your 2st number: 67\n",
      "enter your 3st number: 9876\n"
     ]
    },
    {
     "name": "stdout",
     "output_type": "stream",
     "text": [
      "c is largest\n"
     ]
    }
   ],
   "source": [
    "a = int(input(\"enter your 1st number:\"))\n",
    "b = int(input(\"enter your 2st number:\"))\n",
    "c =int(input(\"enter your 3st number:\"))\n",
    "if a >= b and a >= c:\n",
    "    print(\"a is largest\")\n",
    "elif b >= a and b >= c:\n",
    "    print(\"b is greatest\")\n",
    "else:\n",
    "    print(\"c is largest\")"
   ]
  },
  {
   "cell_type": "code",
   "execution_count": 1,
   "id": "1dfed56a-11d3-42ea-b2b3-98bb9a1c4546",
   "metadata": {},
   "outputs": [
    {
     "name": "stdin",
     "output_type": "stream",
     "text": [
      "enter your number: 5\n"
     ]
    },
    {
     "name": "stdout",
     "output_type": "stream",
     "text": [
      "120\n"
     ]
    }
   ],
   "source": [
    "a = int(input(\"enter your number:\"))\n",
    "i = 1\n",
    "result = 1\n",
    "while i<=a:\n",
    "    result *=i\n",
    "    i+=1\n",
    "print(result)\n",
    "    "
   ]
  },
  {
   "cell_type": "code",
   "execution_count": 8,
   "id": "acb145cc-8f51-47c2-aa4c-6a1c03a40fb6",
   "metadata": {},
   "outputs": [
    {
     "name": "stdin",
     "output_type": "stream",
     "text": [
      "give your string: nigga\n",
      "give your other string: aggin\n"
     ]
    },
    {
     "name": "stdout",
     "output_type": "stream",
     "text": [
      "they are in pallindrome\n"
     ]
    }
   ],
   "source": [
    "a = input(\"give your string:\")\n",
    "b = input(\"give your other string:\")\n",
    "if a[::-1]==b[:] or b[::-1]==a[:]:\n",
    "    print(\"they are in pallindrome\")\n",
    "else:\n",
    "    print(\"they not in pallindrome\")"
   ]
  },
  {
   "cell_type": "code",
   "execution_count": 2,
   "id": "1df138fb-b35d-43b7-aae6-d4b8a5841ebd",
   "metadata": {},
   "outputs": [
    {
     "name": "stdin",
     "output_type": "stream",
     "text": [
      "gimme the string: madam\n"
     ]
    },
    {
     "name": "stdout",
     "output_type": "stream",
     "text": [
      "it is a pallindrome\n"
     ]
    }
   ],
   "source": [
    "c = input(\"gimme the string:\")\n",
    "if c== c[::-1]:\n",
    "    print(\"it is a pallindrome\")\n",
    "else:\n",
    "    print(\"hell nah bro\")"
   ]
  },
  {
   "cell_type": "code",
   "execution_count": null,
   "id": "1cd78f6d-95f3-4bc8-899d-4dbaad970d20",
   "metadata": {},
   "outputs": [],
   "source": []
  }
 ],
 "metadata": {
  "kernelspec": {
   "display_name": "Python 3 (ipykernel)",
   "language": "python",
   "name": "python3"
  },
  "language_info": {
   "codemirror_mode": {
    "name": "ipython",
    "version": 3
   },
   "file_extension": ".py",
   "mimetype": "text/x-python",
   "name": "python",
   "nbconvert_exporter": "python",
   "pygments_lexer": "ipython3",
   "version": "3.13.5"
  }
 },
 "nbformat": 4,
 "nbformat_minor": 5
}
