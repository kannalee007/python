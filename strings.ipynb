{
 "cells": [
  {
   "cell_type": "code",
   "execution_count": 38,
   "id": "6fb47c5f-b71f-44fc-ad16-8a33b15415db",
   "metadata": {},
   "outputs": [
    {
     "data": {
      "text/plain": [
       "'ubab hseham'"
      ]
     },
     "execution_count": 38,
     "metadata": {},
     "output_type": "execute_result"
    }
   ],
   "source": [
    "name = 'mahesh babu'\n",
    "name[::-1]\n"
   ]
  },
  {
   "cell_type": "code",
   "execution_count": 39,
   "id": "93da079f-8aa9-42e1-b187-701bf6d5dca6",
   "metadata": {},
   "outputs": [
    {
     "name": "stdout",
     "output_type": "stream",
     "text": [
      "mahsh babu\n"
     ]
    }
   ],
   "source": [
    "e = name.replace('e',\"\")\n",
    "print(e)"
   ]
  },
  {
   "cell_type": "code",
   "execution_count": 40,
   "id": "cb7cfe39-e425-458d-ae62-9b7cacdb8a61",
   "metadata": {},
   "outputs": [
    {
     "data": {
      "text/plain": [
       "'mahesh babu'"
      ]
     },
     "execution_count": 40,
     "metadata": {},
     "output_type": "execute_result"
    }
   ],
   "source": [
    "name1 = name[:7]\n",
    "name2 = name[7:]\n",
    "name1+name2"
   ]
  },
  {
   "cell_type": "code",
   "execution_count": 10,
   "id": "79cd037e-c7e9-46dc-8f8d-1516fdfceef3",
   "metadata": {},
   "outputs": [
    {
     "name": "stdout",
     "output_type": "stream",
     "text": [
      "mahesh \n"
     ]
    }
   ],
   "source": [
    "e1 = name.replace('babu',\"\")\n",
    "print(e1)"
   ]
  },
  {
   "cell_type": "code",
   "execution_count": 11,
   "id": "8e4beeaf-1399-44d2-bf3d-5d53a1c1b6e7",
   "metadata": {},
   "outputs": [
    {
     "name": "stdout",
     "output_type": "stream",
     "text": [
      "maheshbabu\n"
     ]
    }
   ],
   "source": [
    "e2 = name.replace(\" \",\"\")\n",
    "print(e2)"
   ]
  },
  {
   "cell_type": "code",
   "execution_count": 12,
   "id": "050bd034-035b-4d6a-b19e-9b0ba7a31c9b",
   "metadata": {},
   "outputs": [
    {
     "data": {
      "text/plain": [
       "'MAHESH BABU'"
      ]
     },
     "execution_count": 12,
     "metadata": {},
     "output_type": "execute_result"
    }
   ],
   "source": [
    "name.upper()"
   ]
  },
  {
   "cell_type": "code",
   "execution_count": 13,
   "id": "972fe3c5-0e37-430b-bc07-69201181338f",
   "metadata": {},
   "outputs": [
    {
     "name": "stdout",
     "output_type": "stream",
     "text": [
      "arunyaKa\n"
     ]
    }
   ],
   "source": [
    "name = \"Kaarunya lakshman chinthalapudi\"\n",
    "rotated = name[2:] + name[:2]\n",
    "print(rotated)\n"
   ]
  },
  {
   "cell_type": "code",
   "execution_count": 15,
   "id": "085a7db8-ba55-4df9-8e32-03de9c728c78",
   "metadata": {},
   "outputs": [
    {
     "data": {
      "text/plain": [
       "False"
      ]
     },
     "execution_count": 15,
     "metadata": {},
     "output_type": "execute_result"
    }
   ],
   "source": [
    "'babu' in name"
   ]
  },
  {
   "cell_type": "code",
   "execution_count": 27,
   "id": "e5441325-f67b-4401-b28c-458fc9167657",
   "metadata": {},
   "outputs": [
    {
     "data": {
      "text/plain": [
       "'K'"
      ]
     },
     "execution_count": 27,
     "metadata": {},
     "output_type": "execute_result"
    }
   ],
   "source": [
    "name[0:9:17].title()\n"
   ]
  },
  {
   "cell_type": "code",
   "execution_count": 29,
   "id": "00f793ce-8fae-4b0d-938f-f4700995acad",
   "metadata": {},
   "outputs": [
    {
     "data": {
      "text/plain": [
       "['__add__',\n",
       " '__class__',\n",
       " '__contains__',\n",
       " '__delattr__',\n",
       " '__dir__',\n",
       " '__doc__',\n",
       " '__eq__',\n",
       " '__format__',\n",
       " '__ge__',\n",
       " '__getattribute__',\n",
       " '__getitem__',\n",
       " '__getnewargs__',\n",
       " '__getstate__',\n",
       " '__gt__',\n",
       " '__hash__',\n",
       " '__init__',\n",
       " '__init_subclass__',\n",
       " '__iter__',\n",
       " '__le__',\n",
       " '__len__',\n",
       " '__lt__',\n",
       " '__mod__',\n",
       " '__mul__',\n",
       " '__ne__',\n",
       " '__new__',\n",
       " '__reduce__',\n",
       " '__reduce_ex__',\n",
       " '__repr__',\n",
       " '__rmod__',\n",
       " '__rmul__',\n",
       " '__setattr__',\n",
       " '__sizeof__',\n",
       " '__str__',\n",
       " '__subclasshook__',\n",
       " 'capitalize',\n",
       " 'casefold',\n",
       " 'center',\n",
       " 'count',\n",
       " 'encode',\n",
       " 'endswith',\n",
       " 'expandtabs',\n",
       " 'find',\n",
       " 'format',\n",
       " 'format_map',\n",
       " 'index',\n",
       " 'isalnum',\n",
       " 'isalpha',\n",
       " 'isascii',\n",
       " 'isdecimal',\n",
       " 'isdigit',\n",
       " 'isidentifier',\n",
       " 'islower',\n",
       " 'isnumeric',\n",
       " 'isprintable',\n",
       " 'isspace',\n",
       " 'istitle',\n",
       " 'isupper',\n",
       " 'join',\n",
       " 'ljust',\n",
       " 'lower',\n",
       " 'lstrip',\n",
       " 'maketrans',\n",
       " 'partition',\n",
       " 'removeprefix',\n",
       " 'removesuffix',\n",
       " 'replace',\n",
       " 'rfind',\n",
       " 'rindex',\n",
       " 'rjust',\n",
       " 'rpartition',\n",
       " 'rsplit',\n",
       " 'rstrip',\n",
       " 'split',\n",
       " 'splitlines',\n",
       " 'startswith',\n",
       " 'strip',\n",
       " 'swapcase',\n",
       " 'title',\n",
       " 'translate',\n",
       " 'upper',\n",
       " 'zfill']"
      ]
     },
     "execution_count": 29,
     "metadata": {},
     "output_type": "execute_result"
    }
   ],
   "source": [
    "dir(str)\n"
   ]
  },
  {
   "cell_type": "code",
   "execution_count": 31,
   "id": "a93376e6-a1e9-45d0-a95d-bd48e6c573b4",
   "metadata": {},
   "outputs": [
    {
     "name": "stdin",
     "output_type": "stream",
     "text": [
      "Enter a string:  +\n"
     ]
    },
    {
     "name": "stdout",
     "output_type": "stream",
     "text": [
      "The string does not have both a letter and a number.\n"
     ]
    }
   ],
   "source": [
    "s = input(\"Enter a string: \")\n",
    "\n",
    "has_letter = any(c.isalpha() for c in s)\n",
    "has_number = any(c.isdigit() for c in s)\n",
    "\n",
    "if has_letter and has_number:\n",
    "    print(\"The string has at least one letter and one number.\")\n",
    "else:\n",
    "    print(\"The string does not have both a letter and a number.\")"
   ]
  },
  {
   "cell_type": "code",
   "execution_count": 35,
   "id": "788dbc58-3a8f-4ca5-92e2-58c9f4bc990e",
   "metadata": {},
   "outputs": [
    {
     "name": "stdin",
     "output_type": "stream",
     "text": [
      "enter your words lkl\n"
     ]
    },
    {
     "name": "stdout",
     "output_type": "stream",
     "text": [
      "nope\n"
     ]
    }
   ],
   "source": [
    "p  = input(\"enter your words\")\n",
    "vowels = \"aeiou\"\n",
    "if any(p in vowels for p in p):\n",
    "    print(\"it does have\")\n",
    "else:\n",
    "    print(\"nope\")"
   ]
  },
  {
   "cell_type": "code",
   "execution_count": 36,
   "id": "d00ab8b1-86bd-45f1-b37c-64c0bc6ba2cd",
   "metadata": {},
   "outputs": [
    {
     "name": "stdin",
     "output_type": "stream",
     "text": [
      "Enter a string:  llllľ\n"
     ]
    },
    {
     "name": "stdout",
     "output_type": "stream",
     "text": [
      "String after removing duplicates: lľ\n"
     ]
    }
   ],
   "source": [
    "text = input(\"Enter a string: \")\n",
    "result = \"\"\n",
    "\n",
    "for char in text:\n",
    "    if char not in result:\n",
    "        result += char\n",
    "\n",
    "print(\"String after removing duplicates:\", result)"
   ]
  },
  {
   "cell_type": "code",
   "execution_count": 5,
   "id": "c7b57b19-c352-4a6f-8540-8a9f4039e839",
   "metadata": {},
   "outputs": [
    {
     "name": "stdin",
     "output_type": "stream",
     "text": [
      "what is your words?: the is a sample\n"
     ]
    },
    {
     "name": "stdout",
     "output_type": "stream",
     "text": [
      "is\n",
      "sample\n"
     ]
    }
   ],
   "source": [
    "o = input(\"what is your words?:\")\n",
    "word = o.split()\n",
    "for word in word:\n",
    "    if len(word)%2 == 0:\n",
    "        print(word)"
   ]
  },
  {
   "cell_type": "code",
   "execution_count": 14,
   "id": "618f8741-c73b-4d42-a3b3-4079631c7867",
   "metadata": {
    "scrolled": true
   },
   "outputs": [
    {
     "name": "stdout",
     "output_type": "stream",
     "text": [
      "Nagasaki hiroshima\n"
     ]
    }
   ],
   "source": [
    "name = \"nagasaki hiroshima\"\n",
    "n1 = name.capitalize() \n",
    "print(n1)"
   ]
  },
  {
   "cell_type": "code",
   "execution_count": null,
   "id": "4d61de98-13b9-4a45-a298-a5384adde16c",
   "metadata": {},
   "outputs": [],
   "source": []
  }
 ],
 "metadata": {
  "kernelspec": {
   "display_name": "Python 3 (ipykernel)",
   "language": "python",
   "name": "python3"
  },
  "language_info": {
   "codemirror_mode": {
    "name": "ipython",
    "version": 3
   },
   "file_extension": ".py",
   "mimetype": "text/x-python",
   "name": "python",
   "nbconvert_exporter": "python",
   "pygments_lexer": "ipython3",
   "version": "3.13.5"
  }
 },
 "nbformat": 4,
 "nbformat_minor": 5
}
