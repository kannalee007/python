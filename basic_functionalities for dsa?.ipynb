{
 "cells": [
  {
   "cell_type": "code",
   "execution_count": 2,
   "id": "27b97d11-0256-416a-9921-cc99d0f5c35b",
   "metadata": {},
   "outputs": [
    {
     "name": "stdout",
     "output_type": "stream",
     "text": [
      "[('King', 100), ('Queen', 95), ('Knight', 85)]\n"
     ]
    }
   ],
   "source": [
    "#using zip function\n",
    "names = [\"King\", \"Queen\", \"Knight\"]\n",
    "scores = [100, 95, 85]\n",
    "paired = list(zip(names, scores))\n",
    "print(paired)"
   ]
  },
  {
   "cell_type": "code",
   "execution_count": 3,
   "id": "85cc7b24-ca90-4fb9-872e-a3a6dfddd4d6",
   "metadata": {},
   "outputs": [
    {
     "name": "stdout",
     "output_type": "stream",
     "text": [
      "index 0 FRUITS Apple\n",
      "index 1 FRUITS Banana\n",
      "index 2 FRUITS Cherry\n"
     ]
    }
   ],
   "source": [
    "#using enumerate function\n",
    "fruits = [\"Apple\", \"Banana\", \"Cherry\"]\n",
    "for i, value in enumerate(fruits):\n",
    "    print(f\"index\",i,\"FRUITS\",value)\n",
    "    "
   ]
  },
  {
   "cell_type": "code",
   "execution_count": 7,
   "id": "a81c4232-2c06-4b61-ae71-4aa3e4657f3b",
   "metadata": {},
   "outputs": [
    {
     "name": "stdout",
     "output_type": "stream",
     "text": [
      "True\n",
      "True\n"
     ]
    }
   ],
   "source": [
    "#using all() and any() function\n",
    "marks = [90, 85, 88, 92, 79]\n",
    "for i in marks:\n",
    "    if i<80:\n",
    "        print(all(marks))\n",
    "        if i<90:\n",
    "            print(any(marks))\n",
    "            break"
   ]
  },
  {
   "cell_type": "code",
   "execution_count": 11,
   "id": "9c10e909-9dbf-40c0-90eb-aa4f9716d55c",
   "metadata": {},
   "outputs": [
    {
     "name": "stdout",
     "output_type": "stream",
     "text": [
      "{1: 1, 2: 1, 3: 1, 4: 1}\n"
     ]
    }
   ],
   "source": [
    "#frequency\n",
    "nums = [1, 2, 2, 3, 4, 3, 2, 1]\n",
    "freq = {}\n",
    "for i in nums:\n",
    "    if freq in nums:\n",
    "        freq[i] =+1\n",
    "    else:\n",
    "        freq[i] = 1\n",
    "print(freq)\n",
    "#from collections import Counter\n",
    "#freq = Counter(nums)\n",
    "# the pro way"
   ]
  },
  {
   "cell_type": "code",
   "execution_count": null,
   "id": "bafc0e79-02a3-45b4-ad05-ff5711784dfc",
   "metadata": {},
   "outputs": [],
   "source": []
  }
 ],
 "metadata": {
  "kernelspec": {
   "display_name": "Python 3 (ipykernel)",
   "language": "python",
   "name": "python3"
  },
  "language_info": {
   "codemirror_mode": {
    "name": "ipython",
    "version": 3
   },
   "file_extension": ".py",
   "mimetype": "text/x-python",
   "name": "python",
   "nbconvert_exporter": "python",
   "pygments_lexer": "ipython3",
   "version": "3.13.5"
  }
 },
 "nbformat": 4,
 "nbformat_minor": 5
}
