{
 "cells": [
  {
   "cell_type": "code",
   "execution_count": 12,
   "id": "f490d4ed-e720-4b38-a982-a279323bca3c",
   "metadata": {},
   "outputs": [
    {
     "name": "stdout",
     "output_type": "stream",
     "text": [
      "Max number: 1\n"
     ]
    }
   ],
   "source": [
    "a = [10, 4, 1, 15, 8 ,99]\n",
    "max_num = a[0]\n",
    "\n",
    "for i in a:\n",
    "    if i < max_num:\n",
    "        max_num = i\n",
    "print(\"Max number:\", max_num)\n"
   ]
  },
  {
   "cell_type": "code",
   "execution_count": 15,
   "id": "34d8d5a3-ad97-4f9c-bc71-c8e0f0f6cb8c",
   "metadata": {},
   "outputs": [
    {
     "name": "stdin",
     "output_type": "stream",
     "text": [
      "what is your age: dwc\n"
     ]
    },
    {
     "name": "stdout",
     "output_type": "stream",
     "text": [
      "sorry you did not give number\n"
     ]
    }
   ],
   "source": [
    "try:\n",
    "    age = int(input(\"what is your age:\"))\n",
    "    print(f\"next year you will be {age} years old!\")\n",
    "except ValueError:\n",
    "        print(\"sorry you did not give number\")\n",
    "    "
   ]
  },
  {
   "cell_type": "code",
   "execution_count": 12,
   "id": "23e448ce-037e-4c13-b28e-11d3123f01b0",
   "metadata": {},
   "outputs": [
    {
     "name": "stdin",
     "output_type": "stream",
     "text": [
      "what is your denominator?: 100\n"
     ]
    },
    {
     "name": "stdout",
     "output_type": "stream",
     "text": [
      "the solution will be 0\n"
     ]
    }
   ],
   "source": [
    "try:\n",
    "    numerator = 10\n",
    "    denomi = int(input(\"what is your denominator?:\"))\n",
    "    result = int(numerator/denomi)\n",
    "    print(f\"the solution will be {result}\")\n",
    "except ZeroDivisionError:\n",
    "        print(\"you cannot divide 0\")\n",
    "except ValueError:\n",
    "    print(\"bruh that ain't even a number\")"
   ]
  },
  {
   "cell_type": "code",
   "execution_count": 17,
   "id": "898dfbf1-8508-4016-825a-9f28e1038711",
   "metadata": {},
   "outputs": [
    {
     "name": "stdin",
     "output_type": "stream",
     "text": [
      "tell me what fruit you need with the index: 9\n"
     ]
    },
    {
     "name": "stdout",
     "output_type": "stream",
     "text": [
      "the index you give is above values\n"
     ]
    }
   ],
   "source": [
    "my_fruits = [\"banana\", \"apple\", \"orange\", \"kiwi\"]\n",
    "try:\n",
    "    indice = int(input(\"tell me what fruit you need with the index:\"))\n",
    "    print(f\"you gave {indice} so the fruits which is associated is {my_fruits[indice]}\")\n",
    "except IndexError:\n",
    "    print(\"the index you give is above values\")\n",
    "    "
   ]
  },
  {
   "cell_type": "code",
   "execution_count": 27,
   "id": "8e14ee19-dd3e-4e7b-8ea4-f358caa883a0",
   "metadata": {},
   "outputs": [
    {
     "name": "stdin",
     "output_type": "stream",
     "text": [
      "what value you need to divide, please provide the index: 12\n"
     ]
    },
    {
     "name": "stdout",
     "output_type": "stream",
     "text": [
      "error provide a valid index\n"
     ]
    }
   ],
   "source": [
    "my_values = [34,10,30,50,60,0]\n",
    "try:\n",
    "    divisor = int(input(\"what value you need to divide, please provide the index:\"))\n",
    "    result = 10/my_values[int(divisor)]\n",
    "    print(f\"the answer is {result}\")\n",
    "except (ValueError, IndexError):\n",
    "    print(\"error provide a valid index\")\n",
    "except ZeroDivisonError:\n",
    "    print(\"zero divison error\")\n",
    "    "
   ]
  },
  {
   "cell_type": "code",
   "execution_count": 1,
   "id": "989b5ca7-9011-4626-9b85-9a365456749e",
   "metadata": {},
   "outputs": [
    {
     "name": "stdout",
     "output_type": "stream",
     "text": [
      "try block starting...\n",
      "taking care of clean up code here\n"
     ]
    },
    {
     "ename": "My_Add_Error",
     "evalue": "You are trying to add a string or list with a number. Please check once",
     "output_type": "error",
     "traceback": [
      "\u001b[31m---------------------------------------------------------------------------\u001b[39m",
      "\u001b[31mMy_Add_Error\u001b[39m                              Traceback (most recent call last)",
      "\u001b[36mCell\u001b[39m\u001b[36m \u001b[39m\u001b[32mIn[1]\u001b[39m\u001b[32m, line 27\u001b[39m\n\u001b[32m     23\u001b[39m       \u001b[38;5;28mprint\u001b[39m(\u001b[33m'\u001b[39m\u001b[33mtaking care of clean up code here\u001b[39m\u001b[33m'\u001b[39m)\n\u001b[32m     25\u001b[39m    \u001b[38;5;28mprint\u001b[39m(\u001b[33m'\u001b[39m\u001b[33mAfter the try statement.\u001b[39m\u001b[33m'\u001b[39m)\n\u001b[32m---> \u001b[39m\u001b[32m27\u001b[39m \u001b[43maction\u001b[49m\u001b[43m(\u001b[49m\u001b[43m[\u001b[49m\u001b[32;43m1\u001b[39;49m\u001b[43m,\u001b[49m\u001b[43m \u001b[49m\u001b[32;43m2\u001b[39;49m\u001b[43m,\u001b[49m\u001b[43m \u001b[49m\u001b[32;43m3\u001b[39;49m\u001b[43m]\u001b[49m\u001b[43m,\u001b[49m\u001b[43m \u001b[49m\u001b[32;43m6\u001b[39;49m\u001b[43m)\u001b[49m\n",
      "\u001b[36mCell\u001b[39m\u001b[36m \u001b[39m\u001b[32mIn[1]\u001b[39m\u001b[32m, line 8\u001b[39m, in \u001b[36maction\u001b[39m\u001b[34m(x, y)\u001b[39m\n\u001b[32m      6\u001b[39m \u001b[38;5;28mprint\u001b[39m(\u001b[33m'\u001b[39m\u001b[33mtry block starting...\u001b[39m\u001b[33m'\u001b[39m)\n\u001b[32m      7\u001b[39m \u001b[38;5;28;01mif\u001b[39;00m \u001b[38;5;28misinstance\u001b[39m(x, \u001b[38;5;28mstr\u001b[39m) \u001b[38;5;129;01mor\u001b[39;00m \u001b[38;5;28misinstance\u001b[39m(x, \u001b[38;5;28mlist\u001b[39m):\n\u001b[32m----> \u001b[39m\u001b[32m8\u001b[39m     \u001b[38;5;28;01mraise\u001b[39;00m My_Add_Error(\u001b[33m\"\u001b[39m\u001b[33mYou are trying to add a string or list with a number. Please check once\u001b[39m\u001b[33m\"\u001b[39m)\n\u001b[32m      9\u001b[39m \u001b[38;5;28;01melse\u001b[39;00m:\n\u001b[32m     10\u001b[39m     \u001b[38;5;28mprint\u001b[39m(x + y)\n",
      "\u001b[31mMy_Add_Error\u001b[39m: You are trying to add a string or list with a number. Please check once"
     ]
    }
   ],
   "source": [
    "class My_Add_Error(Exception):\n",
    "    pass\n",
    "\n",
    "def action(x, y):\n",
    "   try:\n",
    "      print('try block starting...')\n",
    "      if isinstance(x, str) or isinstance(x, list):\n",
    "          raise My_Add_Error(\"You are trying to add a string or list with a number. Please check once\")\n",
    "      else:\n",
    "          print(x + y)\n",
    "      print('try block ending...')\n",
    "   except NameError: \n",
    "       print('got Name Error')\n",
    "   except (IndexError, KeyError):\n",
    "      print('got Index or key error')\n",
    "   except AttributeError as var:\n",
    "      print('got Attr Error:', var)\n",
    "   except (OverflowError, ZeroDivisionError) as err:\n",
    "      print('got Type or ZeroDivError.')\n",
    "   else: \n",
    "       print('No Error found.')\n",
    "   finally:\n",
    "      print('taking care of clean up code here')\n",
    "\n",
    "   print('After the try statement.')\n",
    "\n",
    "action([1, 2, 3], 6)\n"
   ]
  },
  {
   "cell_type": "code",
   "execution_count": null,
   "id": "feca7de9-f3e1-43be-bed6-8c0aa2445c4b",
   "metadata": {},
   "outputs": [],
   "source": []
  }
 ],
 "metadata": {
  "kernelspec": {
   "display_name": "Python 3 (ipykernel)",
   "language": "python",
   "name": "python3"
  },
  "language_info": {
   "codemirror_mode": {
    "name": "ipython",
    "version": 3
   },
   "file_extension": ".py",
   "mimetype": "text/x-python",
   "name": "python",
   "nbconvert_exporter": "python",
   "pygments_lexer": "ipython3",
   "version": "3.13.5"
  }
 },
 "nbformat": 4,
 "nbformat_minor": 5
}
