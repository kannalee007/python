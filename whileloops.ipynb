{
 "cells": [
  {
   "cell_type": "code",
   "execution_count": 6,
   "id": "8784cd83-c1ec-4338-a760-0de3bae27844",
   "metadata": {},
   "outputs": [
    {
     "name": "stdin",
     "output_type": "stream",
     "text": [
      "which number you need the table of: 5\n"
     ]
    },
    {
     "name": "stdout",
     "output_type": "stream",
     "text": [
      "5 10 15 20 25 30 35 40 45 50 "
     ]
    }
   ],
   "source": [
    "value = int(input(\"which number you need the table of:\"))\n",
    "i = 1\n",
    "while i <= 10:\n",
    "    result = value * i\n",
    "    print(result,end = ' ')\n",
    "    i +=1"
   ]
  },
  {
   "cell_type": "code",
   "execution_count": 4,
   "id": "56269dd3-eabf-4d53-bcb1-32be8673e410",
   "metadata": {},
   "outputs": [
    {
     "name": "stdin",
     "output_type": "stream",
     "text": [
      "Give the number:  1234\n"
     ]
    },
    {
     "name": "stdout",
     "output_type": "stream",
     "text": [
      "Number of digits: 4\n"
     ]
    }
   ],
   "source": [
    "value = int(input(\"Give the number: \"))\n",
    "n = 0\n",
    "\n",
    "while value > 0:\n",
    "    value = value // 10\n",
    "    n += 1\n",
    "\n",
    "print(\"Number of digits:\", n)"
   ]
  },
  {
   "cell_type": "code",
   "execution_count": 9,
   "id": "0df97d6c-599d-4add-a21c-1325a0244516",
   "metadata": {},
   "outputs": [
    {
     "name": "stdin",
     "output_type": "stream",
     "text": [
      "Until which number:  50\n"
     ]
    },
    {
     "name": "stdout",
     "output_type": "stream",
     "text": [
      "Sum of even numbers is: 650\n"
     ]
    }
   ],
   "source": [
    "limit = int(input(\"Until which number: \"))\n",
    "z = 0\n",
    "sum_of_evens = 0\n",
    "\n",
    "while z <= limit:\n",
    "    if z % 2 == 0:\n",
    "        sum_of_evens += z\n",
    "    z += 1\n",
    "\n",
    "print(\"Sum of even numbers is:\", sum_of_evens)"
   ]
  },
  {
   "cell_type": "code",
   "execution_count": 14,
   "id": "917fffc7-256a-4a67-95a8-6c84954023b5",
   "metadata": {},
   "outputs": [
    {
     "name": "stdin",
     "output_type": "stream",
     "text": [
      "gimme your digits:  1234\n"
     ]
    },
    {
     "name": "stdout",
     "output_type": "stream",
     "text": [
      "Total sum of digits: 10\n"
     ]
    }
   ],
   "source": [
    "n = int(input(\"gimme your digits: \"))\n",
    "sum_of_digits = 0\n",
    "\n",
    "while n > 0:\n",
    "    digit = n % 10\n",
    "    sum_of_digits += digit\n",
    "    n = n // 10\n",
    "\n",
    "print(\"Total sum of digits:\", sum_of_digits)"
   ]
  },
  {
   "cell_type": "code",
   "execution_count": 1,
   "id": "a32841b5-a5c6-47cc-962b-f4beda5c001f",
   "metadata": {},
   "outputs": [
    {
     "name": "stdin",
     "output_type": "stream",
     "text": [
      "What numbers:  40\n"
     ]
    },
    {
     "name": "stdout",
     "output_type": "stream",
     "text": [
      "15 30 "
     ]
    }
   ],
   "source": [
    "k = int(input(\"What numbers: \"))\n",
    "numbers = 1\n",
    "\n",
    "while numbers <= k:\n",
    "    if numbers % 3 == 0 and numbers % 5 == 0:\n",
    "        print(numbers, end=' ')\n",
    "    numbers += 1"
   ]
  },
  {
   "cell_type": "code",
   "execution_count": null,
   "id": "84f11774-8b3a-4fee-ac12-e7d0c14a50d4",
   "metadata": {},
   "outputs": [],
   "source": [
    "n = int(input(\"what number: \"))\n",
    "st = n\n",
    "while st >= 1:\n",
    "    print(\"reversed:\", st)\n",
    "    st -= 1"
   ]
  },
  {
   "cell_type": "code",
   "execution_count": 1,
   "id": "ca15788a-3735-44f6-80b2-20123222abe3",
   "metadata": {},
   "outputs": [
    {
     "name": "stdin",
     "output_type": "stream",
     "text": [
      "how much:  70\n"
     ]
    },
    {
     "name": "stdout",
     "output_type": "stream",
     "text": [
      "divisible by 7: 7\n",
      "divisible by 7: 14\n",
      "divisible by 7: 21\n",
      "divisible by 7: 28\n",
      "divisible by 7: 35\n",
      "divisible by 7: 42\n",
      "divisible by 7: 49\n",
      "divisible by 7: 56\n",
      "divisible by 7: 63\n",
      "divisible by 7: 70\n",
      "Total numbers divisible by 7: 10\n"
     ]
    }
   ],
   "source": [
    "h = int(input(\"how much: \"))\n",
    "i = 1\n",
    "count = 0\n",
    "\n",
    "while i <= h:\n",
    "    if i % 7 == 0:\n",
    "        count += 1\n",
    "        print(\"divisible by 7:\", i)\n",
    "    i += 1  # <-- Very important! Always increase i in every loop\n",
    "print(\"Total numbers divisible by 7:\", count)"
   ]
  },
  {
   "cell_type": "code",
   "execution_count": null,
   "id": "57aecc53-3ff2-4835-b4ec-cc33f8b8ed0b",
   "metadata": {},
   "outputs": [],
   "source": [
    "n = int(input(\"what numbers:\"))\n",
    "i = 0\n",
    "while i<=n:\n",
    "    sum = i+n\n",
    "    i+=1\n",
    "    print(\"total:\",sum)\n",
    "    \n"
   ]
  },
  {
   "cell_type": "code",
   "execution_count": null,
   "id": "566816d0-7735-4fbe-b0f8-29d54616580b",
   "metadata": {},
   "outputs": [
    {
     "name": "stdin",
     "output_type": "stream",
     "text": [
      "enter your number: 200\n"
     ]
    },
    {
     "name": "stdout",
     "output_type": "stream",
     "text": [
      "divsibled by: 1 how many steps:\n",
      "divsibled by: 2 how many steps:\n"
     ]
    }
   ],
   "source": [
    "n = int(input(\"enter your number:\"))\n",
    "count = 0\n",
    "while count<n:\n",
    "    if count%n<=1:\n",
    "        \n",
    "        count+=1\n",
    "        \n",
    "        print(\"divsibled by:\",count,\"how many steps:\")\n",
    "        "
   ]
  },
  {
   "cell_type": "code",
   "execution_count": null,
   "id": "f524ea66-cdad-4cc5-ae72-53c07b7457b5",
   "metadata": {},
   "outputs": [],
   "source": []
  }
 ],
 "metadata": {
  "kernelspec": {
   "display_name": "Python 3 (ipykernel)",
   "language": "python",
   "name": "python3"
  },
  "language_info": {
   "codemirror_mode": {
    "name": "ipython",
    "version": 3
   },
   "file_extension": ".py",
   "mimetype": "text/x-python",
   "name": "python",
   "nbconvert_exporter": "python",
   "pygments_lexer": "ipython3",
   "version": "3.13.5"
  }
 },
 "nbformat": 4,
 "nbformat_minor": 5
}
