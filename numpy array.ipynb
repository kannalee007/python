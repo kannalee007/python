{
 "cells": [
  {
   "cell_type": "code",
   "execution_count": 1,
   "id": "3d02b92d-878d-4eb2-b947-216019847a2d",
   "metadata": {},
   "outputs": [],
   "source": [
    "import numpy as np"
   ]
  },
  {
   "cell_type": "code",
   "execution_count": 2,
   "id": "88a2dbdb-2acf-4bb5-84bc-b318eb000968",
   "metadata": {},
   "outputs": [
    {
     "data": {
      "text/plain": [
       "(4,)"
      ]
     },
     "execution_count": 2,
     "metadata": {},
     "output_type": "execute_result"
    }
   ],
   "source": [
    "ar1 = np.array([21,23,443,554])\n",
    "ar1.shape"
   ]
  },
  {
   "cell_type": "code",
   "execution_count": 3,
   "id": "230fcb00-db44-45af-95a4-0b0af4397288",
   "metadata": {},
   "outputs": [
    {
     "data": {
      "text/plain": [
       "1"
      ]
     },
     "execution_count": 3,
     "metadata": {},
     "output_type": "execute_result"
    }
   ],
   "source": [
    "ar1.ndim"
   ]
  },
  {
   "cell_type": "code",
   "execution_count": 4,
   "id": "bc1370f1-08d5-41a4-a371-ce25f5e3da5d",
   "metadata": {},
   "outputs": [
    {
     "data": {
      "text/plain": [
       "dtype('int64')"
      ]
     },
     "execution_count": 4,
     "metadata": {},
     "output_type": "execute_result"
    }
   ],
   "source": [
    "ar1.dtype\n"
   ]
  },
  {
   "cell_type": "code",
   "execution_count": 5,
   "id": "36ca8142-8c28-4396-9c93-4ffc3ff6cb6d",
   "metadata": {},
   "outputs": [
    {
     "data": {
      "text/plain": [
       "(3, 4)"
      ]
     },
     "execution_count": 5,
     "metadata": {},
     "output_type": "execute_result"
    }
   ],
   "source": [
    "ar2 = np.array([[2,3,6,5],[3,5,4,65],[5,65,4,3]])\n",
    "ar2.shape"
   ]
  },
  {
   "cell_type": "code",
   "execution_count": 6,
   "id": "423fafe1-8e3b-4d93-a3f5-a2f467d3cacd",
   "metadata": {},
   "outputs": [
    {
     "data": {
      "text/plain": [
       "2"
      ]
     },
     "execution_count": 6,
     "metadata": {},
     "output_type": "execute_result"
    }
   ],
   "source": [
    "ar2.ndim"
   ]
  },
  {
   "cell_type": "code",
   "execution_count": 7,
   "id": "9cc2f8fe-84aa-4a16-9b09-503a6f7a39c7",
   "metadata": {},
   "outputs": [
    {
     "data": {
      "text/plain": [
       "3"
      ]
     },
     "execution_count": 7,
     "metadata": {},
     "output_type": "execute_result"
    }
   ],
   "source": [
    "ar3 = np.array([[[2,1,2],[2,3,4],[2,3,4]], [[23,33,3],[3,2,4],[2,4,5]], [[3,2,4], [3,4,6],[3,4,6]]])\n",
    "ar3.ndim"
   ]
  },
  {
   "cell_type": "code",
   "execution_count": 16,
   "id": "9b479d9e-3bbf-4f43-b705-a90874de85cc",
   "metadata": {},
   "outputs": [
    {
     "data": {
      "text/plain": [
       "(3, 4)"
      ]
     },
     "execution_count": 16,
     "metadata": {},
     "output_type": "execute_result"
    }
   ],
   "source": [
    "ar2.shape"
   ]
  },
  {
   "cell_type": "code",
   "execution_count": 9,
   "id": "5712a342-00a7-4939-a6de-87fa351511f6",
   "metadata": {},
   "outputs": [
    {
     "data": {
      "text/plain": [
       "(4, 2, 3)"
      ]
     },
     "execution_count": 9,
     "metadata": {},
     "output_type": "execute_result"
    }
   ],
   "source": [
    "ar4 = np.array([[[3, 5, 101], [210, 105, 10]], [[10, 15, 105], [110, 100, 1]], [[13, 51, 11], [200, 55, 41]], [[-1, -5, -10], [218, 81, 8]]])\n",
    "ar4.shape"
   ]
  },
  {
   "cell_type": "code",
   "execution_count": 10,
   "id": "6061ba9a-d4bd-4f06-88f3-85ddb6920e14",
   "metadata": {},
   "outputs": [
    {
     "data": {
      "text/plain": [
       "3"
      ]
     },
     "execution_count": 10,
     "metadata": {},
     "output_type": "execute_result"
    }
   ],
   "source": [
    "ar4.ndim"
   ]
  },
  {
   "cell_type": "code",
   "execution_count": 11,
   "id": "295c51ed-d3c3-41c9-8456-a16d63ac89d6",
   "metadata": {},
   "outputs": [
    {
     "data": {
      "text/plain": [
       "[22, 44, 53, 33, 22, 342, 1233, 4353]"
      ]
     },
     "execution_count": 11,
     "metadata": {},
     "output_type": "execute_result"
    }
   ],
   "source": [
    "lis1 = [12,34,43,23,12,332,1223,4343]\n",
    "[el+10 for el in lis1]"
   ]
  },
  {
   "cell_type": "code",
   "execution_count": 12,
   "id": "f0025414-3dbf-487a-9751-25aa527b62c5",
   "metadata": {},
   "outputs": [
    {
     "data": {
      "text/plain": [
       "array([ 31,  33, 453, 564])"
      ]
     },
     "execution_count": 12,
     "metadata": {},
     "output_type": "execute_result"
    }
   ],
   "source": [
    "ar1 + 10 #this is called vectorization"
   ]
  },
  {
   "cell_type": "code",
   "execution_count": 13,
   "id": "715ffb40-7f08-468e-ad55-d3892bc4f00e",
   "metadata": {},
   "outputs": [
    {
     "data": {
      "text/plain": [
       "array([[[False, False,  True],\n",
       "        [ True,  True,  True]],\n",
       "\n",
       "       [[ True,  True,  True],\n",
       "        [ True,  True, False]],\n",
       "\n",
       "       [[ True,  True,  True],\n",
       "        [ True,  True,  True]],\n",
       "\n",
       "       [[False, False, False],\n",
       "        [ True,  True,  True]]])"
      ]
     },
     "execution_count": 13,
     "metadata": {},
     "output_type": "execute_result"
    }
   ],
   "source": [
    "ar4 > 5"
   ]
  },
  {
   "cell_type": "code",
   "execution_count": 15,
   "id": "74655b9e-783c-4da2-bbe8-75095f5d51e9",
   "metadata": {},
   "outputs": [
    {
     "data": {
      "text/plain": [
       "array([[  6,   9,  18,  15],\n",
       "       [  9,  15,  12, 195],\n",
       "       [ 15, 195,  12,   9]])"
      ]
     },
     "execution_count": 15,
     "metadata": {},
     "output_type": "execute_result"
    }
   ],
   "source": [
    "ar2 * 3"
   ]
  },
  {
   "cell_type": "code",
   "execution_count": 21,
   "id": "5234b652-4dde-48cd-86ca-c7bc7c858bdd",
   "metadata": {},
   "outputs": [
    {
     "data": {
      "text/plain": [
       "array([10, 11, 12, 13])"
      ]
     },
     "execution_count": 21,
     "metadata": {},
     "output_type": "execute_result"
    }
   ],
   "source": [
    "np5 = np.arange(10,14)\n",
    "np5"
   ]
  },
  {
   "cell_type": "code",
   "execution_count": 22,
   "id": "e15695d4-2c7c-42cc-83c0-ec596cb98eae",
   "metadata": {},
   "outputs": [
    {
     "data": {
      "text/plain": [
       "array([ 31,  34, 455, 567])"
      ]
     },
     "execution_count": 22,
     "metadata": {},
     "output_type": "execute_result"
    }
   ],
   "source": [
    "ar1 + np5"
   ]
  },
  {
   "cell_type": "code",
   "execution_count": 23,
   "id": "68f85f33-7c55-48b2-aab3-36f84b1d1a66",
   "metadata": {},
   "outputs": [
    {
     "data": {
      "text/plain": [
       "np.int64(443)"
      ]
     },
     "execution_count": 23,
     "metadata": {},
     "output_type": "execute_result"
    }
   ],
   "source": [
    "ar1[2]"
   ]
  },
  {
   "cell_type": "code",
   "execution_count": 24,
   "id": "c4700ac6-4a0d-4e8c-9cc8-d0feef9ff58e",
   "metadata": {},
   "outputs": [
    {
     "data": {
      "text/plain": [
       "array([[ 10,  15, 105],\n",
       "       [110, 100,   1]])"
      ]
     },
     "execution_count": 24,
     "metadata": {},
     "output_type": "execute_result"
    }
   ],
   "source": [
    "ar4[1][0:3]"
   ]
  },
  {
   "cell_type": "code",
   "execution_count": null,
   "id": "4f78f0a2-3cf5-4b1e-9f47-9d8698a08dbb",
   "metadata": {},
   "outputs": [],
   "source": []
  }
 ],
 "metadata": {
  "kernelspec": {
   "display_name": "Python 3 (ipykernel)",
   "language": "python",
   "name": "python3"
  },
  "language_info": {
   "codemirror_mode": {
    "name": "ipython",
    "version": 3
   },
   "file_extension": ".py",
   "mimetype": "text/x-python",
   "name": "python",
   "nbconvert_exporter": "python",
   "pygments_lexer": "ipython3",
   "version": "3.13.5"
  }
 },
 "nbformat": 4,
 "nbformat_minor": 5
}
