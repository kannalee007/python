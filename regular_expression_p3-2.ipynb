{
 "cells": [
  {
   "cell_type": "code",
   "execution_count": 2,
   "id": "85a72f16-4d67-4e22-87b8-660289e216df",
   "metadata": {},
   "outputs": [
    {
     "data": {
      "text/plain": [
       "['dd', 'dd', 'ff', 'jj', 'gg']"
      ]
     },
     "execution_count": 2,
     "metadata": {},
     "output_type": "execute_result"
    }
   ],
   "source": [
    "import re\n",
    "text = 'ddddoooofffjjjggg'\n",
    "result = re.findall(r'd{2}|f{2}|j{2}|g{2}', text)\n",
    "result"
   ]
  },
  {
   "cell_type": "code",
   "execution_count": 13,
   "id": "48fd64ba-fcf0-4283-b5bd-2d672d505d8b",
   "metadata": {},
   "outputs": [
    {
     "data": {
      "text/plain": [
       "['kaarunya~@gmail.com', 'nagaski@yahoo.com', 'naga_aajo@gmail.com']"
      ]
     },
     "execution_count": 13,
     "metadata": {},
     "output_type": "execute_result"
    }
   ],
   "source": [
    "tat = 'kaarunya~@gmail.com nagaski@yahoo.com bifbfdjbf naga_aajo@gmail.com'\n",
    "result = re.findall(r'[\\w.~]+@[\\w.]+', tat)\n",
    "result"
   ]
  },
  {
   "cell_type": "code",
   "execution_count": 10,
   "id": "4706ec38-c158-4b5a-8cbb-711640e06848",
   "metadata": {},
   "outputs": [
    {
     "data": {
      "text/plain": [
       "['ABSD12', 'JJASN212']"
      ]
     },
     "execution_count": 10,
     "metadata": {},
     "output_type": "execute_result"
    }
   ],
   "source": [
    "tmt = 'hi my account number is ABSD12 and my friend number is JJASN212'\n",
    "result = re.findall(r'(\\w+\\d+)', tmt)\n",
    "result"
   ]
  },
  {
   "cell_type": "code",
   "execution_count": 12,
   "id": "e154f05c-6da9-4947-9e7f-719682fdf614",
   "metadata": {},
   "outputs": [
    {
     "name": "stdout",
     "output_type": "stream",
     "text": [
      "lamya,rakesh@gmail.com\n"
     ]
    }
   ],
   "source": [
    "yap = 'helloooo my name is lamaya im here for getting my mail id known as lamya,rakesh@gmail.com'\n",
    "result = re.search(r'[\\w.,]+@[\\w.]+',yap)\n",
    "if result:\n",
    "    print(result.group())\n",
    "else:\n",
    "    print(\"sorry did not find it\")"
   ]
  },
  {
   "cell_type": "code",
   "execution_count": 21,
   "id": "c119d37f-6aa6-405f-b7bc-4b781786917b",
   "metadata": {},
   "outputs": [
    {
     "data": {
      "text/plain": [
       "['e.reed.mgr@futuretechcorp.com.',\n",
       " 'b.carter.dev@futuretechcorp.com',\n",
       " 'dev.team.chimera@futuretechcorp.com.',\n",
       " 'samantha.jones@uxdesigners.net',\n",
       " 'leo.valdez@futuretechcorp.com.',\n",
       " 'raj.patel@futuretechcorp.com',\n",
       " 'qa.reports@futuretechcorp.com.',\n",
       " 'marketing.contact@brightstaragency.org.',\n",
       " 'd.chen.procure@futuretechcorp.com.',\n",
       " 'project.chimera.info@futuretechcorp.com']"
      ]
     },
     "execution_count": 21,
     "metadata": {},
     "output_type": "execute_result"
    }
   ],
   "source": [
    "paragraph ='''The project kickoff meeting for Project Chimera concluded with a clear action plan and a finalized communication \n",
    "strategy, which was immediately circulated by the coordinator. For all high-level project management and timeline inquiries,\n",
    "the primary contact is our lead manager, Ms. Evelyn Reed, at e.reed.mgr@futuretechcorp.com. All technical and development-related\n",
    "questions should be directed to the lead developer, Ben Carter, at b.carter.dev@futuretechcorp.com, \n",
    "while also copying the general development team's distribution list at dev.team.chimera@futuretechcorp.com. \n",
    "For user interface and experience design feedback, please loop in both\n",
    "samantha.jones@uxdesigners.net and leo.valdez@futuretechcorp.com.\n",
    "Any issues concerning quality assurance and bug reporting must be sent directly to the QA team lead, \n",
    "raj.patel@futuretechcorp.com, with mandatory CC to the ticketing system at qa.reports@futuretechcorp.com. For matters \n",
    "related to marketing and public relations, our liaison, an external consultant, \n",
    "can be reached at marketing.contact@brightstaragency.org. All vendor and procurement communications are handled by David Chen,\n",
    "reachable at d.chen.procure@futuretechcorp.com. Finally, for any general, non-categorized questions, \n",
    "please use the project's central inbox, project.chimera.info@futuretechcorp.com, \n",
    "which is monitored by the entire administrative staff.'''\n",
    "result = re.findall(r'[\\w.]+[\\w.]@[\\w.]+', paragraph)\n",
    "result"
   ]
  },
  {
   "cell_type": "code",
   "execution_count": 4,
   "id": "9fa1c90d-8b46-42eb-9e01-ae4dd794dde8",
   "metadata": {},
   "outputs": [
    {
     "data": {
      "text/plain": [
       "['too', 'fkk', 'koo', 'off']"
      ]
     },
     "execution_count": 4,
     "metadata": {},
     "output_type": "execute_result"
    }
   ],
   "source": [
    "import re\n",
    "tht = 'vbbbbtooogkokfkkkkoooofff'\n",
    "result = re.findall(r'\\wff|\\woo|\\wkk', tht)\n",
    "result"
   ]
  },
  {
   "cell_type": "code",
   "execution_count": null,
   "id": "74aa457d-8edf-4a6e-a06c-4ffebab2e343",
   "metadata": {},
   "outputs": [],
   "source": []
  }
 ],
 "metadata": {
  "kernelspec": {
   "display_name": "Python 3 (ipykernel)",
   "language": "python",
   "name": "python3"
  },
  "language_info": {
   "codemirror_mode": {
    "name": "ipython",
    "version": 3
   },
   "file_extension": ".py",
   "mimetype": "text/x-python",
   "name": "python",
   "nbconvert_exporter": "python",
   "pygments_lexer": "ipython3",
   "version": "3.13.5"
  }
 },
 "nbformat": 4,
 "nbformat_minor": 5
}
