{
 "cells": [
  {
   "cell_type": "code",
   "execution_count": 8,
   "id": "d24d61bb-e61b-47f2-923b-820c24483b91",
   "metadata": {},
   "outputs": [
    {
     "name": "stdout",
     "output_type": "stream",
     "text": [
      "---welcome to icecream shop.--- \n",
      " please select the flavour you like.\n",
      "1-> Strawberry\n",
      "2-> vallina\n",
      "3-> chocolate\n",
      "4 -> mango\n"
     ]
    },
    {
     "name": "stdin",
     "output_type": "stream",
     "text": [
      "what flavour you like to have chocolate\n"
     ]
    },
    {
     "name": "stdout",
     "output_type": "stream",
     "text": [
      "ah you took stawberry flavour!, you're price will be 100\n",
      "you're final price will be 185\n"
     ]
    }
   ],
   "source": [
    "class IceCream():\n",
    "    def __init__(self):\n",
    "        print(\"---welcome to icecream shop.--- \\n please select the flavour you like.\")\n",
    "        print(\"1-> Strawberry\")\n",
    "        print(\"2-> vallina\")\n",
    "        print(\"3-> chocolate\")\n",
    "        print(\"4 -> mango\")\n",
    "        \n",
    "        try:\n",
    "            flavour = input(\"what flavour you like to have\").lower()\n",
    "            \n",
    "            if flavour == 'strawberry':\n",
    "                self.Strawberry()\n",
    "            elif flavour == 'vallina':\n",
    "                self.Vanilla()\n",
    "            elif flavour == 'chocolate':\n",
    "                self.Chocolate()\n",
    "            elif flavour == 'mango':\n",
    "                self.Mango()\n",
    "            else:\n",
    "                print(\"sorry no discount for this flavour\")\n",
    "        except AttributeError:\n",
    "            print(\"please provide a valid flavour\")\n",
    "    def Strawberry(self):\n",
    "        print(\"ah you took stawberry flavour!\")\n",
    "        price = 160\n",
    "        discount = 20\n",
    "        new_price = price * (discount/100)\n",
    "        final = price - discount\n",
    "        print(f\"you're final price with the discount will be {final}\")\n",
    "    def Vanilla(self):\n",
    "        print(\"ah you took vanilla flavour!\")\n",
    "        price = 130\n",
    "        discount = 10\n",
    "        new_price = price * (discount/100)\n",
    "        final = price - discount\n",
    "        print(f\"you're final price will be {final}\")\n",
    "    def Chocolate(self):\n",
    "        print(\"ah you took chocolate flavour!, you're price will be 200\")\n",
    "        price = 200\n",
    "        discount = 15\n",
    "        new_price = price * (discount/100)\n",
    "        final = price - discount\n",
    "        print(f\"you're final price with the discount will be {final}\")\n",
    "    def Mango(self):\n",
    "        print(\"ah you took Mango flavour!\")\n",
    "        price = 150\n",
    "        discount = 5\n",
    "        new_price = price * (discount/100)\n",
    "        final = price - discount\n",
    "        print(f\"you're final price with the discount will be {final}\")\n",
    "if __name__ == \"__main__\":\n",
    "    Ice = IceCream()"
   ]
  },
  {
   "cell_type": "code",
   "execution_count": null,
   "id": "3d12a9f5-8579-4333-a94b-b7f29fe4fb6c",
   "metadata": {},
   "outputs": [],
   "source": []
  }
 ],
 "metadata": {
  "kernelspec": {
   "display_name": "Python 3 (ipykernel)",
   "language": "python",
   "name": "python3"
  },
  "language_info": {
   "codemirror_mode": {
    "name": "ipython",
    "version": 3
   },
   "file_extension": ".py",
   "mimetype": "text/x-python",
   "name": "python",
   "nbconvert_exporter": "python",
   "pygments_lexer": "ipython3",
   "version": "3.13.5"
  }
 },
 "nbformat": 4,
 "nbformat_minor": 5
}
