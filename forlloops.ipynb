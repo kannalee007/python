{
 "cells": [
  {
   "cell_type": "code",
   "execution_count": 9,
   "id": "603bca12-ce59-4733-a3dd-09aa7528b6ce",
   "metadata": {},
   "outputs": [
    {
     "name": "stdout",
     "output_type": "stream",
     "text": [
      "integer: 1 square value: 1\n",
      "integer: 2 square value: 4\n",
      "integer: 3 square value: 9\n",
      "integer: 4 square value: 16\n",
      "integer: 5 square value: 25\n",
      "integer: 6 square value: 36\n",
      "integer: 7 square value: 49\n"
     ]
    }
   ],
   "source": [
    "nums = [1,2,3,4,5,6,7]\n",
    "for i in nums:\n",
    "    sq = i**2\n",
    "    print(\"integer:\",i,\"square value:\",sq)"
   ]
  },
  {
   "cell_type": "code",
   "execution_count": 1,
   "id": "cde981de-2b8c-4ed5-a942-85148d6e861b",
   "metadata": {},
   "outputs": [
    {
     "name": "stdout",
     "output_type": "stream",
     "text": [
      "integers: 12 square value: 144\n",
      "integers: 14 square value: 196\n",
      "integers: 22 square value: 484\n",
      "integers: 30 square value: 900\n"
     ]
    }
   ],
   "source": [
    "nums = [12, 7, 9, 14, 22, 5, 30]\n",
    "for i in nums:\n",
    "    if i % 2 ==0:\n",
    "        sq = i**2\n",
    "        print(\"integers:\",i,\"square value:\",sq)"
   ]
  },
  {
   "cell_type": "code",
   "execution_count": 4,
   "id": "258c0397-4125-423e-98a8-5bd9b3c22b64",
   "metadata": {},
   "outputs": [
    {
     "name": "stdout",
     "output_type": "stream",
     "text": [
      "7\n",
      "16\n",
      "21\n",
      "32\n",
      "35\n"
     ]
    }
   ],
   "source": [
    "nums = [12, 7, 9, 14, 22, 5, 30, 11, 3]\n",
    "odd_sum = 0\n",
    "for i in nums:\n",
    "    if i%2!=0:\n",
    "        odd_sum = odd_sum+i\n",
    "        print(odd_sum)"
   ]
  },
  {
   "cell_type": "code",
   "execution_count": 2,
   "id": "52ab0228-e11c-4616-bf5f-0cc5777db021",
   "metadata": {},
   "outputs": [
    {
     "name": "stdout",
     "output_type": "stream",
     "text": [
      "15\n"
     ]
    }
   ],
   "source": [
    "nums = [15, 3, 8, 6, 10, 27, 12, 5, 18]\n",
    "for i in nums:\n",
    "    if i%3 ==0 and i%5==0:\n",
    "        print(i)"
   ]
  },
  {
   "cell_type": "code",
   "execution_count": 3,
   "id": "a4a54856-98b4-4930-a5e4-0603b602c791",
   "metadata": {},
   "outputs": [
    {
     "name": "stdout",
     "output_type": "stream",
     "text": [
      "5\n",
      "75\n",
      "2250\n",
      "45000\n",
      "450000\n"
     ]
    }
   ],
   "source": [
    "nums = [5, 12, 7, 15, 30, 8, 20, 10]\n",
    "product =1\n",
    "for i in nums:\n",
    "    if i%5==0:\n",
    "        product = product*i\n",
    "        print(product)"
   ]
  },
  {
   "cell_type": "code",
   "execution_count": 2,
   "id": "9b231b4e-6d79-4efe-9ddd-a87a5f04397a",
   "metadata": {},
   "outputs": [
    {
     "name": "stdout",
     "output_type": "stream",
     "text": [
      "15\n",
      "18\n",
      "20\n",
      "25\n"
     ]
    }
   ],
   "source": [
    "nums = [9, 2, 15, 4, 6, 18, 20, 1, 25]\n",
    "for i in nums:\n",
    "    if i%2==0 or i%5==0:\n",
    "        if i >10:\n",
    "            print(i)"
   ]
  },
  {
   "cell_type": "code",
   "execution_count": 4,
   "id": "c29e4dc4-c131-4c22-98d9-cfa82ae8186d",
   "metadata": {},
   "outputs": [
    {
     "name": "stdout",
     "output_type": "stream",
     "text": [
      "largest: 15\n",
      "largest: 25\n",
      "largest: 30\n"
     ]
    }
   ],
   "source": [
    "nums = [3, 12, 15, 7, 10, 2, 18, 25, 30, 5]\n",
    "large = 0\n",
    "for i in nums:\n",
    "    if i%5==0 and i>10:\n",
    "        if i>large:\n",
    "            large = i\n",
    "            print(\"largest:\",large)"
   ]
  },
  {
   "cell_type": "code",
   "execution_count": 3,
   "id": "cd37fff4-1f93-4ec6-90e1-4b999c3555e5",
   "metadata": {},
   "outputs": [
    {
     "name": "stdout",
     "output_type": "stream",
     "text": [
      "6\n"
     ]
    }
   ],
   "source": [
    "nums = [8, 15, 6, 21, 10, 3, 14, 20, 5]\n",
    "total_sum = 0\n",
    "for i in nums:\n",
    "    if i%2==0 and i%3==0:\n",
    "        total_sum = total_sum+i\n",
    "print(total_sum)\n",
    "        "
   ]
  },
  {
   "cell_type": "code",
   "execution_count": 2,
   "id": "d3d7f43d-bb7a-4ca1-a835-d29d069b5af9",
   "metadata": {},
   "outputs": [
    {
     "name": "stdout",
     "output_type": "stream",
     "text": [
      "the odd numbers are: 5 squared numbers are: 25\n",
      "the odd numbers are: 9 squared numbers are: 81\n",
      "the odd numbers are: 7 squared numbers are: 49\n",
      "the odd numbers are: 15 squared numbers are: 225\n"
     ]
    }
   ],
   "source": [
    "nums = [12, 5, 9, 14, 20, 7, 15]\n",
    "for i in nums:\n",
    "    if i % 2!=0:\n",
    "        square = i**2\n",
    "        print(\"the odd numbers are:\",i,\"squared numbers are:\",square)"
   ]
  },
  {
   "cell_type": "code",
   "execution_count": 9,
   "id": "1ce97324-4128-41df-b483-3e777c8869d6",
   "metadata": {},
   "outputs": [
    {
     "name": "stdout",
     "output_type": "stream",
     "text": [
      "divisible numbers: 15 cube root: 3375\n",
      "divisible numbers: 25 cube root: 15625\n"
     ]
    }
   ],
   "source": [
    "nums = [12, 5, 9, 14, 20, 7, 15, 22, 33, 10, 25]\n",
    "for i in nums:  \n",
    "    if i>10:\n",
    "        cube = i**3\n",
    "        if i%5==0:\n",
    "            if i%2!=0:\n",
    "                \n",
    "               print(\"divisible numbers:\",i,\"cube root:\",cube)"
   ]
  },
  {
   "cell_type": "code",
   "execution_count": 4,
   "id": "53deb5eb-7852-4cab-b110-b8595c8b464b",
   "metadata": {},
   "outputs": [
    {
     "name": "stdout",
     "output_type": "stream",
     "text": [
      "numbers are: 15 sqaured number: 225\n",
      "numbers are: 25 sqaured number: 625\n",
      "numbers are: 27 sqaured number: 729\n"
     ]
    }
   ],
   "source": [
    "nums = [15, 6, 22, 9, 30, 5, 18, 14, 25, 3, 10, 27]\n",
    "for i in nums:\n",
    "    if i%2!=0:\n",
    "        if i>10:\n",
    "            if i%3==0 or i%5==0:\n",
    "                if i%7!=0:\n",
    "                    sqaure = i**2\n",
    "                    print(\"numbers are:\",i,\"sqaured number:\",sqaure)"
   ]
  },
  {
   "cell_type": "code",
   "execution_count": 1,
   "id": "a0081178-3294-4d7e-870e-d7889d7ba5bd",
   "metadata": {},
   "outputs": [
    {
     "name": "stdout",
     "output_type": "stream",
     "text": [
      "45 half number: 22.5\n"
     ]
    }
   ],
   "source": [
    "nums = [18, 33, 45, 22, 9, 12, 27, 50, 7, 28, 55, 42, 60]\n",
    "for i in nums:\n",
    "    if i%3==0 and i%5==0:\n",
    "        if i>20:\n",
    "            if i%2!=0 or i%7==0:\n",
    "                if i%4!=0:\n",
    "                    num_half = i/2\n",
    "                    print(i,\"half number:\",num_half)"
   ]
  },
  {
   "cell_type": "code",
   "execution_count": 3,
   "id": "cb59f21f-37ca-4da3-8f99-009686445699",
   "metadata": {},
   "outputs": [
    {
     "name": "stdout",
     "output_type": "stream",
     "text": [
      "15\n",
      "18\n",
      "21\n",
      "24\n"
     ]
    }
   ],
   "source": [
    "for i in range(15,25,3):\n",
    "     print(i)"
   ]
  },
  {
   "cell_type": "code",
   "execution_count": 4,
   "id": "931a1ecd-d278-4840-a225-2dd981c044cc",
   "metadata": {},
   "outputs": [
    {
     "name": "stdout",
     "output_type": "stream",
     "text": [
      "52\n",
      "56\n",
      "60\n",
      "64\n",
      "68\n",
      "72\n",
      "76\n",
      "80\n",
      "84\n",
      "88\n",
      "92\n",
      "96\n"
     ]
    }
   ],
   "source": [
    "for i in range(50,100):\n",
    "    if i%2==0 and i%4==0:\n",
    "        print(i)"
   ]
  },
  {
   "cell_type": "code",
   "execution_count": 5,
   "id": "ad4c3cf3-bf31-401f-b877-8cd2e1a57831",
   "metadata": {},
   "outputs": [
    {
     "name": "stdout",
     "output_type": "stream",
     "text": [
      "126\n",
      "189\n",
      "252\n",
      "315\n",
      "378\n",
      "441\n"
     ]
    }
   ],
   "source": [
    "for i in range(100,500):\n",
    "    if i%7==0 and i%9==0:\n",
    "        if i%10:\n",
    "            print(i)"
   ]
  },
  {
   "cell_type": "code",
   "execution_count": 6,
   "id": "9619f643-7b70-4560-b11c-9ed0d71e7658",
   "metadata": {},
   "outputs": [
    {
     "name": "stdout",
     "output_type": "stream",
     "text": [
      "[8, 5, 3, 2]\n"
     ]
    }
   ],
   "source": [
    "nums = [5, 3, 8, 2]\n",
    "result = sorted(nums, reverse=True)\n",
    "print(result)"
   ]
  },
  {
   "cell_type": "code",
   "execution_count": 7,
   "id": "ce1785c7-a1ed-4800-9783-814927a93377",
   "metadata": {},
   "outputs": [
    {
     "name": "stdout",
     "output_type": "stream",
     "text": [
      "{'x': 10, 'y': 20, 'z': 30}\n"
     ]
    }
   ],
   "source": [
    "d = {\"x\": 10, \"y\": 20}\n",
    "d[\"z\"] = 30\n",
    "print(d)"
   ]
  },
  {
   "cell_type": "code",
   "execution_count": null,
   "id": "e8758c21-9b47-4f41-abd3-370fc5e60c9e",
   "metadata": {},
   "outputs": [],
   "source": []
  }
 ],
 "metadata": {
  "kernelspec": {
   "display_name": "Python 3 (ipykernel)",
   "language": "python",
   "name": "python3"
  },
  "language_info": {
   "codemirror_mode": {
    "name": "ipython",
    "version": 3
   },
   "file_extension": ".py",
   "mimetype": "text/x-python",
   "name": "python",
   "nbconvert_exporter": "python",
   "pygments_lexer": "ipython3",
   "version": "3.13.5"
  }
 },
 "nbformat": 4,
 "nbformat_minor": 5
}
